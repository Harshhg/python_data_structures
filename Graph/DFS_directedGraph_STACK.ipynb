{
 "cells": [
  {
   "cell_type": "code",
   "execution_count": 1,
   "metadata": {},
   "outputs": [
    {
     "data": {
      "image/png": "[encoded data removed]",
      "text/plain": [
       "<IPython.core.display.Image object>"
      ]
     },
     "execution_count": 1,
     "metadata": {},
     "output_type": "execute_result"
    }
   ],
   "source": [
    "# Implementing the DFS of the directed graph using STACK.\n",
    "from IPython.display import Image\n",
    "Image(\"bfs.png\")"
   ]
  },
  {
   "cell_type": "code",
   "execution_count": 2,
   "metadata": {},
   "outputs": [],
   "source": [
    "class AdjNode:\n",
    "    def __init__(self,data):\n",
    "        self.vertex = data\n",
    "        self.next = None"
   ]
  },
  {
   "cell_type": "code",
   "execution_count": 3,
   "metadata": {},
   "outputs": [],
   "source": [
    "class Graph:\n",
    "    def __init__(self,vertices):\n",
    "        self.V = vertices\n",
    "        self.graph = [0]*self.V\n",
    "        \n",
    "    def addEdge(self,src,dest):\n",
    "        node = AdjNode(dest)\n",
    "        node.next = self.graph[src]\n",
    "        self.graph[src]=node\n",
    "    \n",
    "    def printGraph(self):\n",
    "        for i in range(len(self.graph)):\n",
    "            print(\"Adjacency List for vertex {} is : \".format(i))\n",
    "            temp = self.graph[i]\n",
    "            while(temp):\n",
    "                print(temp.vertex,end=\"-\")\n",
    "                temp = temp.next\n",
    "            print(\"\\n\")\n",
    "            \n",
    "    def DFS(self,start):\n",
    "        stack=[]\n",
    "        visited=[0]*self.V\n",
    "        stack.append(start)\n",
    "        \n",
    "        while(stack):\n",
    "            cur = stack.pop()\n",
    "            if visited[cur] == 0:\n",
    "                print(cur,end=\"-\")\n",
    "                visited[cur]=1\n",
    "                temp = self.graph[cur]\n",
    "                while(temp):\n",
    "                    stack.append(temp.vertex)\n",
    "                    temp = temp.next"
   ]
  },
  {
   "cell_type": "code",
   "execution_count": 7,
   "metadata": {},
   "outputs": [
    {
     "name": "stdout",
     "output_type": "stream",
     "text": [
      "Adjacency List for vertex 0 is : \n",
      "2-1-\n",
      "\n",
      "Adjacency List for vertex 1 is : \n",
      "2-\n",
      "\n",
      "Adjacency List for vertex 2 is : \n",
      "3-0-\n",
      "\n",
      "Adjacency List for vertex 3 is : \n",
      "3-\n",
      "\n",
      "DFS of the graph is : \n",
      "1-2-0-3-"
     ]
    }
   ],
   "source": [
    "V = 4\n",
    "g = Graph(V)\n",
    "g.addEdge(0,1)\n",
    "g.addEdge(0,2)\n",
    "g.addEdge(1,2)\n",
    "g.addEdge(2,0)\n",
    "g.addEdge(2,3)\n",
    "g.addEdge(3,3)\n",
    "g.printGraph()\n",
    "print(\"DFS of the graph is : \")\n",
    "g.DFS(1)"
   ]
  },
  {
   "cell_type": "code",
   "execution_count": null,
   "metadata": {},
   "outputs": [],
   "source": [
    "# stay Tuned :)"
   ]
  }
 ],
 "metadata": {
  "kernelspec": {
   "display_name": "Python 3",
   "language": "python",
   "name": "python3"
  },
  "language_info": {
   "codemirror_mode": {
    "name": "ipython",
    "version": 3
   },
   "file_extension": ".py",
   "mimetype": "text/x-python",
   "name": "python",
   "nbconvert_exporter": "python",
   "pygments_lexer": "ipython3",
   "version": "3.7.3"
  }
 },
 "nbformat": 4,
 "nbformat_minor": 2
}
