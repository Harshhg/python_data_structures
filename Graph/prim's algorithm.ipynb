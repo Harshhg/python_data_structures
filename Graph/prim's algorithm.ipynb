{
 "cells": [
  {
   "cell_type": "code",
   "execution_count": 9,
   "metadata": {},
   "outputs": [],
   "source": [
    "# Implementing PRIM's Algorithm"
   ]
  },
  {
   "cell_type": "code",
   "execution_count": null,
   "metadata": {},
   "outputs": [],
   "source": [
    "import sys # Library for INT_MAX \n",
    "class Graph(): \n",
    "    def __init__(self, vertices): \n",
    "        self.V = vertices \n",
    "        self.graph = [[0 for column in range(vertices)]  \n",
    "                    for row in range(vertices)] \n",
    "  \n",
    "    # A utility function to print the constructed MST stored in parent[] \n",
    "    def print_result(self, parent): \n",
    "        print( \"Edge \\tWeight\")\n",
    "        for i in range(1, self.V): \n",
    "            print(parent[i], \"-\", i, \"\\t\", self.graph[i][ parent[i] ] )\n",
    "\n",
    "    def min_key(self, key, visited_set): \n",
    "        min = sys.maxsize\n",
    "  \n",
    "        for v in range(self.V): \n",
    "            if key[v] < min and visited_set[v] == False: \n",
    "                min = key[v] \n",
    "                min_index = v \n",
    "  \n",
    "        return min_index \n",
    "  \n",
    "    def prim_algo(self): \n",
    "  \n",
    "        key = [sys.maxsize] * self.V \n",
    "        parent = [None] * self.V # Array to store constructed MST \n",
    "        key[0] = 0 \n",
    "        visited_set = [False] * self.V \n",
    "  \n",
    "        parent[0] = -1 # First node is always the root of \n",
    "  \n",
    "        for cout in range(self.V):  \n",
    "            u = self.min_key(key, visited_set) \n",
    "            visited_set[u] = True\n",
    "  \n",
    "            for v in range(self.V): \n",
    "                if self.graph[u][v] > 0 and visited_set[v] == False and key[v] > self.graph[u][v]: \n",
    "                        key[v] = self.graph[u][v] \n",
    "                        parent[v] = u \n",
    "        self.print_result(parent) \n"
   ]
  },
  {
   "cell_type": "code",
   "execution_count": 11,
   "metadata": {},
   "outputs": [
    {
     "name": "stdout",
     "output_type": "stream",
     "text": [
      "Edge \tWeight\n",
      "0 - 1 \t 2\n",
      "1 - 2 \t 3\n",
      "0 - 3 \t 6\n",
      "1 - 4 \t 5\n"
     ]
    }
   ],
   "source": [
    "g = Graph(5) \n",
    "g.graph = [ [0, 2, 0, 6, 0], \n",
    "            [2, 0, 3, 8, 5], \n",
    "            [0, 3, 0, 0, 7], \n",
    "            [6, 8, 0, 0, 9], \n",
    "            [0, 5, 7, 9, 0]] \n",
    "  \n",
    "g.prim_algo();"
   ]
  },
  {
   "cell_type": "code",
   "execution_count": null,
   "metadata": {},
   "outputs": [],
   "source": [
    "# stay Tuned :)"
   ]
  }
 ],
 "metadata": {
  "kernelspec": {
   "display_name": "Python 3",
   "language": "python",
   "name": "python3"
  },
  "language_info": {
   "codemirror_mode": {
    "name": "ipython",
    "version": 3
   },
   "file_extension": ".py",
   "mimetype": "text/x-python",
   "name": "python",
   "nbconvert_exporter": "python",
   "pygments_lexer": "ipython3",
   "version": "3.7.3"
  }
 },
 "nbformat": 4,
 "nbformat_minor": 2
}
