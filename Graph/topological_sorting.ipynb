{
 "cells": [
  {
   "cell_type": "code",
   "execution_count": 30,
   "metadata": {},
   "outputs": [
    {
     "data": {
      "image/png": "[encoded data removed]",
      "text/plain": [
       "<IPython.core.display.Image object>"
      ]
     },
     "execution_count": 30,
     "metadata": {
      "image/png": {
       "width": 300
      }
     },
     "output_type": "execute_result"
    }
   ],
   "source": [
    "# Implementing Graph using Adjacency List\n",
    "from IPython.display import Image\n",
    "Image(\"ts.png\")"
   ]
  },
  {
   "cell_type": "code",
   "execution_count": 7,
   "metadata": {},
   "outputs": [],
   "source": [
    "# Initializing a class that will create a Adjacency Node.\n",
    "class AdjNode:\n",
    "    def __init__(self,data):\n",
    "        self.vertex = data\n",
    "        self.next = None"
   ]
  },
  {
   "cell_type": "code",
   "execution_count": 25,
   "metadata": {},
   "outputs": [],
   "source": [
    "# A class to represent the graph\n",
    "class Graph:\n",
    "    def __init__(self,vertices):\n",
    "        self.V = vertices\n",
    "        self.graph = [None] * self.V\n",
    "        \n",
    "# Function to add an EDGE to the undirected graph\n",
    "   # Adding the node to the source\n",
    "    def addEdge(self, src, dest):\n",
    "        node = AdjNode(dest)\n",
    "        node.next = self.graph[src]\n",
    "        self.graph[src] = node\n",
    "\n",
    "        \n",
    "# Function to print the Graph\n",
    "    def printGraph(self):\n",
    "        for i in range(self.V): \n",
    "            print(\"Adjacency list of vertex {}\\n head\".format(i), end=\"\") \n",
    "            temp = self.graph[i] \n",
    "            while temp: \n",
    "                print(\" -> {}\".format(temp.vertex), end=\"\") \n",
    "                temp = temp.next\n",
    "            print(\" \\n\") \n",
    "        \n",
    "# Recursive function for topological sort, that will DFS the graph for each adjacent node.\n",
    "    def topologicalSortUtil(self,v,visit,stack):\n",
    "        if visit[v] == 0:\n",
    "            temp = self.graph[v]\n",
    "            visit[v] = 1\n",
    "            while(temp):\n",
    "                if visit[temp.vertex]==0:\n",
    "                    self.topologicalSortUtil(temp.vertex,visit,stack)\n",
    "                temp=temp.next\n",
    "            stack.append(v)\n",
    "        \n",
    "# Function that will call the topologicalSortUtil for every vertex in the graph.\n",
    "    def topologicalSort(self):\n",
    "        visit=[0]*self.V\n",
    "        stack=[]\n",
    "        for i in range(self.V):\n",
    "            self.topologicalSortUtil(i,visit,stack)\n",
    "        \n",
    "        while(stack):\n",
    "            print(stack.pop(), end=\" \")"
   ]
  },
  {
   "cell_type": "code",
   "execution_count": 27,
   "metadata": {},
   "outputs": [
    {
     "name": "stdout",
     "output_type": "stream",
     "text": [
      "Adjacency list of vertex 0\n",
      " head \n",
      "\n",
      "Adjacency list of vertex 1\n",
      " head \n",
      "\n",
      "Adjacency list of vertex 2\n",
      " head -> 3 \n",
      "\n",
      "Adjacency list of vertex 3\n",
      " head -> 1 \n",
      "\n",
      "Adjacency list of vertex 4\n",
      " head -> 1 -> 0 \n",
      "\n",
      "Adjacency list of vertex 5\n",
      " head -> 0 -> 2 \n",
      "\n",
      "Topological Sort of the graph is : \n",
      "5 4 2 3 1 0 "
     ]
    }
   ],
   "source": [
    "# Driver Program \n",
    "V = 6\n",
    "graph = Graph(V)\n",
    "graph.addEdge(5,2) \n",
    "graph.addEdge(5,0) \n",
    "graph.addEdge(4,0) \n",
    "graph.addEdge(4,1) \n",
    "graph.addEdge(2,3) \n",
    "graph.addEdge(3,1)  \n",
    "  \n",
    "graph.printGraph() \n",
    "print(\"Topological Sort of the graph is : \")\n",
    "graph.topologicalSort()\n"
   ]
  },
  {
   "cell_type": "code",
   "execution_count": null,
   "metadata": {},
   "outputs": [],
   "source": [
    "# stay Tuned :)"
   ]
  }
 ],
 "metadata": {
  "kernelspec": {
   "display_name": "Python 3",
   "language": "python",
   "name": "python3"
  },
  "language_info": {
   "codemirror_mode": {
    "name": "ipython",
    "version": 3
   },
   "file_extension": ".py",
   "mimetype": "text/x-python",
   "name": "python",
   "nbconvert_exporter": "python",
   "pygments_lexer": "ipython3",
   "version": "3.7.3"
  }
 },
 "nbformat": 4,
 "nbformat_minor": 2
}
