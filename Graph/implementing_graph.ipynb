{
 "cells": [
  {
   "cell_type": "code",
   "execution_count": 1,
   "metadata": {},
   "outputs": [
    {
     "data": {
      "image/png": "[encoded data removed]",
      "text/plain": [
       "<IPython.core.display.Image object>"
      ]
     },
     "execution_count": 1,
     "metadata": {},
     "output_type": "execute_result"
    }
   ],
   "source": [
    "# Implementing Graph using Adjacency List\n",
    "from IPython.display import Image\n",
    "Image(\"graph.png\")"
   ]
  },
  {
   "cell_type": "code",
   "execution_count": 6,
   "metadata": {},
   "outputs": [],
   "source": [
    "# Initializing a class that will create a Adjacency Node.\n",
    "class AdjNode:\n",
    "    def __init__(self,data):\n",
    "        self.vertex = data\n",
    "        self.next = None"
   ]
  },
  {
   "cell_type": "code",
   "execution_count": 15,
   "metadata": {},
   "outputs": [],
   "source": [
    "# A class to represent the graph\n",
    "class Graph:\n",
    "    def __init__(self,vertices):\n",
    "        self.V = vertices\n",
    "        self.graph = [None] * self.V\n",
    "        \n",
    "# Function to add an EDGE to the undirected graph\n",
    "   # Adding the node to the source\n",
    "    def addEdge(self, src, dest):\n",
    "        node = AdjNode(dest)\n",
    "        node.next = self.graph[src]\n",
    "        self.graph[src] = node\n",
    "        \n",
    "    # Adding the node to the Destination (since it is undirected graph)\n",
    "    \n",
    "        node = AdjNode(src)\n",
    "        node.next = self.graph[dest]\n",
    "        self.graph[dest] = node\n",
    "        \n",
    "# Function to print the Graph\n",
    "    def printGraph(self):\n",
    "        for i in range(self.V): \n",
    "            print(\"Adjacency list of vertex {}\\n head\".format(i), end=\"\") \n",
    "            temp = self.graph[i] \n",
    "            while temp: \n",
    "                print(\" -> {}\".format(temp.vertex), end=\"\") \n",
    "                temp = temp.next\n",
    "            print(\" \\n\") "
   ]
  },
  {
   "cell_type": "code",
   "execution_count": 16,
   "metadata": {},
   "outputs": [
    {
     "name": "stdout",
     "output_type": "stream",
     "text": [
      "Adjacency list of vertex 0\n",
      " head -> 4 -> 1 \n",
      "\n",
      "Adjacency list of vertex 1\n",
      " head -> 4 -> 3 -> 2 -> 0 \n",
      "\n",
      "Adjacency list of vertex 2\n",
      " head -> 3 -> 1 \n",
      "\n",
      "Adjacency list of vertex 3\n",
      " head -> 4 -> 2 -> 1 \n",
      "\n",
      "Adjacency list of vertex 4\n",
      " head -> 3 -> 1 -> 0 \n",
      "\n"
     ]
    }
   ],
   "source": [
    "# Driver Program \n",
    "V = 5\n",
    "graph = Graph(V)\n",
    "graph.addEdge(0, 1) \n",
    "graph.addEdge(0, 4) \n",
    "graph.addEdge(1, 2) \n",
    "graph.addEdge(1, 3) \n",
    "graph.addEdge(1, 4) \n",
    "graph.addEdge(2, 3) \n",
    "graph.addEdge(3, 4) \n",
    "  \n",
    "graph.printGraph()"
   ]
  },
  {
   "cell_type": "code",
   "execution_count": null,
   "metadata": {},
   "outputs": [],
   "source": [
    "# stay Tuned :)"
   ]
  }
 ],
 "metadata": {
  "kernelspec": {
   "display_name": "Python 3",
   "language": "python",
   "name": "python3"
  },
  "language_info": {
   "codemirror_mode": {
    "name": "ipython",
    "version": 3
   },
   "file_extension": ".py",
   "mimetype": "text/x-python",
   "name": "python",
   "nbconvert_exporter": "python",
   "pygments_lexer": "ipython3",
   "version": "3.7.3"
  }
 },
 "nbformat": 4,
 "nbformat_minor": 2
}
