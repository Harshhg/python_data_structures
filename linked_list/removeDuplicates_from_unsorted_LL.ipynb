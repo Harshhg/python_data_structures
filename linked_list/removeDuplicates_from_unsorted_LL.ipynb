{
 "cells": [
  {
   "cell_type": "code",
   "execution_count": 2,
   "metadata": {},
   "outputs": [],
   "source": [
    "# Removing Duplicates from Unsorted Linked list using Hash table"
   ]
  },
  {
   "cell_type": "code",
   "execution_count": 3,
   "metadata": {},
   "outputs": [],
   "source": [
    "class Node: #Creating Node having data and next pointer\n",
    "    def __init__(self,data):\n",
    "        self.data=data\n",
    "        self.next=None"
   ]
  },
  {
   "cell_type": "code",
   "execution_count": 4,
   "metadata": {},
   "outputs": [],
   "source": [
    "class Mylist:\n",
    "    def __init__(self): #For initializing HEAD node\n",
    "        self.head=None;\n",
    "\n",
    "# Function to Insert in the Linked list\n",
    "    def push(self,new_data):    #To insert data at the end of linked list\n",
    "        new_node = Node(new_data) #creating a temporary new node\n",
    "        if(self.head is None):   #if head node is empty\n",
    "            self.head=new_node   #creating head node\n",
    "        else:                      # else if head node exist\n",
    "            temp=self.head          #assigning temp to the head node\n",
    "            while(temp.next):\n",
    "                temp=temp.next      #searching for the last node\n",
    "            temp.next=new_node      #appending new node to the next of previous node\n",
    "            \n",
    "# Function to print the Linked List\n",
    "    def printll(self):  #To print the Linked List\n",
    "        temp=self.head\n",
    "        while(temp):\n",
    "            print(temp.data,end='-')\n",
    "            temp=temp.next\n",
    "\n",
    "# Function to remove the duplicates from the linked list\n",
    "    def removeDuplicates(self):\n",
    "        d={}   # Creating Hash table (in the form of dictionary)\n",
    "        temp=self.head\n",
    "        prev = temp\n",
    "        while(temp):\n",
    "            if temp.data not in d:\n",
    "                d[temp.data]=1\n",
    "                prev = temp\n",
    "                temp=temp.next\n",
    "            else:\n",
    "                prev.next = temp.next\n",
    "                temp = temp.next"
   ]
  },
  {
   "cell_type": "code",
   "execution_count": 8,
   "metadata": {},
   "outputs": [
    {
     "name": "stdout",
     "output_type": "stream",
     "text": [
      "Enter number of elements :6\n",
      "3\n",
      "5\n",
      "7\n",
      "2\n",
      "3\n",
      "7\n",
      "Original List : \n",
      "3-5-7-2-3-7-\n",
      "After removing Duplicates : \n",
      "3-5-7-2-"
     ]
    }
   ],
   "source": [
    "l= Mylist() #Creating object of class, and initialize head node\n",
    "n=int(input(\"Enter number of elements :\"))\n",
    "while(n):\n",
    "    l.push(input())\n",
    "    n=n-1\n",
    "print(\"Original List : \")\n",
    "l.printll()\n",
    "l.removeDuplicates()\n",
    "print(\"\\nAfter removing Duplicates : \")\n",
    "l.printll()"
   ]
  },
  {
   "cell_type": "code",
   "execution_count": null,
   "metadata": {},
   "outputs": [],
   "source": [
    "# Stay tuned :)"
   ]
  }
 ],
 "metadata": {
  "kernelspec": {
   "display_name": "Python 3",
   "language": "python",
   "name": "python3"
  }
 },
 "nbformat": 4,
 "nbformat_minor": 2
}
