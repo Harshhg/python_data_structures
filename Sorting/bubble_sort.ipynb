{
 "cells": [
  {
   "cell_type": "code",
   "execution_count": 1,
   "metadata": {},
   "outputs": [],
   "source": [
    "# Bubble Sorting "
   ]
  },
  {
   "cell_type": "code",
   "execution_count": null,
   "metadata": {},
   "outputs": [],
   "source": [
    "# Function for bubble sort\n",
    "def bubble_sort(ar):\n",
    "     l=len(ar)\n",
    "     for i in range(0,l):\n",
    "          for j in range(0,l-1):\n",
    "               if(ar[j]>ar[j+1]):\n",
    "                    ar[j],ar[j+1]=ar[j+1],ar[j]"
   ]
  },
  {
   "cell_type": "code",
   "execution_count": 4,
   "metadata": {},
   "outputs": [
    {
     "name": "stdout",
     "output_type": "stream",
     "text": [
      "Before Sorting :  [2, 4, 17, 1, 9, 3]\n",
      "After Sorting:  [1, 2, 3, 4, 9, 17]\n"
     ]
    }
   ],
   "source": [
    "# Driver program to test the code\n",
    "ar=[2,4,17,1,9,3]\n",
    "print(\"Before Sorting : \",ar)\n",
    "bubble_sort(ar)\n",
    "print(\"After Sorting: \",ar)"
   ]
  },
  {
   "cell_type": "code",
   "execution_count": null,
   "metadata": {},
   "outputs": [],
   "source": [
    "# Stay tuned :)"
   ]
  }
 ],
 "metadata": {
  "kernelspec": {
   "display_name": "Python 3",
   "language": "python",
   "name": "python3"
  },
  "language_info": {
   "codemirror_mode": {
    "name": "ipython",
    "version": 3
   },
   "file_extension": ".py",
   "mimetype": "text/x-python",
   "name": "python",
   "nbconvert_exporter": "python",
   "pygments_lexer": "ipython3",
   "version": "3.7.3"
  }
 },
 "nbformat": 4,
 "nbformat_minor": 2
}
