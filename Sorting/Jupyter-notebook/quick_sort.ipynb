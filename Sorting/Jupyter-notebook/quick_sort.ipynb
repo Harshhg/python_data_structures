{
 "cells": [
  {
   "cell_type": "code",
   "execution_count": 1,
   "metadata": {},
   "outputs": [],
   "source": [
    "# Implementing Quick Sorting"
   ]
  },
  {
   "cell_type": "code",
   "execution_count": 6,
   "metadata": {},
   "outputs": [],
   "source": [
    "# Quick sort function\n",
    "def quick_sort(low,high,ar):\n",
    "     if(low<high):\n",
    "          j=partition(low,high,ar)\n",
    "          quick_sort(low,j,ar)\n",
    "          quick_sort(j+1,high,ar)"
   ]
  },
  {
   "cell_type": "code",
   "execution_count": 7,
   "metadata": {},
   "outputs": [],
   "source": [
    "# Partition Function\n",
    "def partition(low,high,ar):\n",
    "     pivot=ar[low]\n",
    "     i=low\n",
    "     j=high\n",
    "     while(i<j):\n",
    "          while(ar[i]<=pivot and i<high):\n",
    "               i+=1\n",
    "          while(ar[j]>=pivot and j>low):\n",
    "               j-=1\n",
    "          if(i<j):\n",
    "               ar[i],ar[j]=ar[j],ar[i]\n",
    "     ar[j],ar[low]=ar[low],ar[j]\n",
    "     return j"
   ]
  },
  {
   "cell_type": "code",
   "execution_count": 8,
   "metadata": {},
   "outputs": [
    {
     "name": "stdout",
     "output_type": "stream",
     "text": [
      "Before Sorting : [101, 5, 31, 7, 9, 10, 4, 7, 1, 6]\n",
      "After Sorting : [1, 4, 5, 6, 7, 7, 9, 10, 31, 101]\n"
     ]
    }
   ],
   "source": [
    "# Driver program\n",
    "ar=[101,5,31,7,9,10,4,7,1,6]\n",
    "low=0\n",
    "high=len(ar)-1\n",
    "print(\"Before Sorting :\",ar)\n",
    "quick_sort(low,high,ar)\n",
    "print(\"After Sorting :\",ar)"
   ]
  },
  {
   "cell_type": "code",
   "execution_count": null,
   "metadata": {},
   "outputs": [],
   "source": [
    "# Stay tuned :)"
   ]
  }
 ],
 "metadata": {
  "kernelspec": {
   "display_name": "Python 3",
   "language": "python",
   "name": "python3"
  },
  "language_info": {
   "codemirror_mode": {
    "name": "ipython",
    "version": 3
   },
   "file_extension": ".py",
   "mimetype": "text/x-python",
   "name": "python",
   "nbconvert_exporter": "python",
   "pygments_lexer": "ipython3",
   "version": "3.7.3"
  }
 },
 "nbformat": 4,
 "nbformat_minor": 2
}
