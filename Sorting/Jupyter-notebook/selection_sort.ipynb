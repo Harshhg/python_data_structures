{
 "cells": [
  {
   "cell_type": "code",
   "execution_count": 1,
   "metadata": {},
   "outputs": [],
   "source": [
    "# Implementing Selection Sort"
   ]
  },
  {
   "cell_type": "code",
   "execution_count": 2,
   "metadata": {},
   "outputs": [],
   "source": [
    "# Function\n",
    "def selection_sort(ar):\n",
    "     for i in range(0,len(ar)):\n",
    "          min=i          #Stroing index value only\n",
    "          for j in range(i,len(ar)):\n",
    "               if(ar[j]<ar[min]):  #Comparing  value at index\n",
    "                    min=j\n",
    "          ar[i],ar[min]=ar[min],ar[i]   #Swapping index values"
   ]
  },
  {
   "cell_type": "code",
   "execution_count": 3,
   "metadata": {},
   "outputs": [
    {
     "name": "stdout",
     "output_type": "stream",
     "text": [
      "Before Sorting :  [2, 4, 17, 1, 9, 3]\n",
      "After Sorting:  [1, 2, 3, 4, 9, 17]\n"
     ]
    }
   ],
   "source": [
    "ar=[2,4,17,1,9,3]\n",
    "print(\"Before Sorting : \",ar)\n",
    "selection_sort(ar)\n",
    "print(\"After Sorting: \",ar)"
   ]
  },
  {
   "cell_type": "code",
   "execution_count": null,
   "metadata": {},
   "outputs": [],
   "source": [
    "# Stay tuned :)"
   ]
  }
 ],
 "metadata": {
  "kernelspec": {
   "display_name": "Python 3",
   "language": "python",
   "name": "python3"
  },
  "language_info": {
   "codemirror_mode": {
    "name": "ipython",
    "version": 3
   },
   "file_extension": ".py",
   "mimetype": "text/x-python",
   "name": "python",
   "nbconvert_exporter": "python",
   "pygments_lexer": "ipython3",
   "version": "3.7.3"
  }
 },
 "nbformat": 4,
 "nbformat_minor": 2
}
