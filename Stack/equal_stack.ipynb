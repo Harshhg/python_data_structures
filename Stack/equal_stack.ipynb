{
 "cells": [
  {
   "cell_type": "code",
   "execution_count": 4,
   "metadata": {},
   "outputs": [
    {
     "data": {
      "image/png": "[encoded data removed]",
      "text/plain": [
       "<IPython.core.display.Image object>"
      ]
     },
     "execution_count": 4,
     "metadata": {},
     "output_type": "execute_result"
    }
   ],
   "source": [
    "'''Find the maximum possible height of the stacks such that all of the stacks are exactly the same height.\n",
    "This means you must remove zero or more cylinders from the top of zero or more of the three stacks \n",
    "until they're all the same height, then print the height.\n",
    "The removals must be performed in such a way as to maximize the height.\n",
    "'''\n",
    "from IPython.display import Image\n",
    "Image(\"equal_stack.png\")\n",
    "\n",
    "# Here the maximum height is 5\n",
    "# Time complexity will be O(n1+n2+n3)"
   ]
  },
  {
   "cell_type": "code",
   "execution_count": null,
   "metadata": {},
   "outputs": [],
   "source": [
    "# Function to find the minimum of 3 sums\n",
    "def findMin(sumh1,sumh2,sumh3):\n",
    "    min=sumh1\n",
    "    if sumh2<min:\n",
    "        min=sumh2\n",
    "    if sumh3<min:\n",
    "        min=sumh3\n",
    "    return min\n",
    "\n",
    "# Function to find the maximum height\n",
    "def equalStacks(h1, h2, h3):\n",
    "    sumh1=0\n",
    "    sumh2=0\n",
    "    sumh3=0\n",
    "    for x in h1:\n",
    "        sumh1 += x\n",
    "    for x in h2:\n",
    "        sumh2 += x\n",
    "    for x in h3:\n",
    "        sumh3 += x\n",
    "    while(sumh1 != sumh2 or sumh2 != sumh3):\n",
    "        min = findMin(sumh1,sumh2,sumh3)\n",
    "        if(sumh1>min):\n",
    "            sumh1-=h1.pop(0)\n",
    "        if(sumh2>min):\n",
    "            sumh2-=h2.pop(0)\n",
    "        if(sumh3>min):\n",
    "            sumh3-=h3.pop(0)\n",
    "    return sumh1"
   ]
  },
  {
   "cell_type": "code",
   "execution_count": 3,
   "metadata": {},
   "outputs": [
    {
     "name": "stdout",
     "output_type": "stream",
     "text": [
      "5\n"
     ]
    }
   ],
   "source": [
    "h1=[3,2,1,1,1]\n",
    "h2=[4,3,2]\n",
    "h3=[1,1,4,1]\n",
    "result = equalStacks(h1,h2,h3)\n",
    "print(result)"
   ]
  },
  {
   "cell_type": "code",
   "execution_count": null,
   "metadata": {},
   "outputs": [],
   "source": [
    "# stay Tuned :)"
   ]
  }
 ],
 "metadata": {
  "kernelspec": {
   "display_name": "Python 3",
   "language": "python",
   "name": "python3"
  },
  "language_info": {
   "codemirror_mode": {
    "name": "ipython",
    "version": 3
   },
   "file_extension": ".py",
   "mimetype": "text/x-python",
   "name": "python",
   "nbconvert_exporter": "python",
   "pygments_lexer": "ipython3",
   "version": "3.7.3"
  }
 },
 "nbformat": 4,
 "nbformat_minor": 2
}
