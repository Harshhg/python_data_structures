{
 "cells": [
  {
   "cell_type": "code",
   "execution_count": null,
   "metadata": {},
   "outputs": [],
   "source": [
    "# Rotating array d no. of times clockwise\n",
    "\n",
    "# First input contains number of test cases\n",
    "# Second input contains size and No of rotations seperated by space\n",
    "# Third line contains array\n",
    "'''\n",
    "Input:\n",
    "2\n",
    "5 2\n",
    "1 2 3 4 5 \n",
    "10 3\n",
    "2 4 6 8 10 12 14 16 18 20\n",
    "\n",
    "Output:\n",
    "3 4 5 1 2\n",
    "8 10 12 14 16 18 20 2 4 6\n",
    "\n",
    "'''"
   ]
  },
  {
   "cell_type": "code",
   "execution_count": 4,
   "metadata": {},
   "outputs": [
    {
     "name": "stdout",
     "output_type": "stream",
     "text": [
      "1\n",
      "5 2\n",
      "1 2 3 4 5\n",
      "3 4 5 1 2 \n"
     ]
    }
   ],
   "source": [
    "tc = int(input())\n",
    "while(tc):\n",
    "    size,d = (input().split(\" \"))\n",
    "    d=int(d)\n",
    "    ar = input().split(\" \")\n",
    "    while(d):\n",
    "        temp = ar.pop(0)\n",
    "        ar.append(temp)\n",
    "        d-=1\n",
    "    for x in ar:\n",
    "        print(x,end=\" \")\n",
    "    print(\"\")\n",
    "    tc-=1"
   ]
  },
  {
   "cell_type": "code",
   "execution_count": null,
   "metadata": {},
   "outputs": [],
   "source": [
    "# stay tuned :)"
   ]
  }
 ],
 "metadata": {
  "kernelspec": {
   "display_name": "Python 3",
   "language": "python",
   "name": "python3"
  },
  "language_info": {
   "codemirror_mode": {
    "name": "ipython",
    "version": 3
   },
   "file_extension": ".py",
   "mimetype": "text/x-python",
   "name": "python",
   "nbconvert_exporter": "python",
   "pygments_lexer": "ipython3",
   "version": "3.7.3"
  }
 },
 "nbformat": 4,
 "nbformat_minor": 2
}
