{
 "cells": [
  {
   "cell_type": "code",
   "execution_count": 130,
   "metadata": {},
   "outputs": [],
   "source": [
    "# The task is to print the next smaller element of each element in array.\n",
    "# Expected Time Complexity is O(N)\n",
    "# Implementation using Stack."
   ]
  },
  {
   "cell_type": "code",
   "execution_count": 132,
   "metadata": {},
   "outputs": [],
   "source": [
    "def findSmaller(ar):\n",
    "    stack=[]\n",
    "    stack.append(ar[0])\n",
    "    stack_top = 0\n",
    "    \n",
    "    for i in range(1,len(ar)):\n",
    "        \n",
    "        # If stack top is smaller than current element, print the pair, and pop it.  \n",
    "        while(stack_top >=0 and ar[i] < stack[stack_top]):\n",
    "            print(stack[stack_top],\"->\",ar[i])\n",
    "            stack.pop()\n",
    "            stack_top -= 1\n",
    "          \n",
    "        # If stack is empty, push the current element\n",
    "        if stack_top < 0: \n",
    "            stack.append(ar[i])\n",
    "            stack_top += 1\n",
    "            continue\n",
    "            \n",
    "        # If current element is greater than stack top, push it to stack\n",
    "        if(ar[i] >= stack[stack_top]):\n",
    "            stack.append(ar[i])\n",
    "            stack_top += 1\n",
    "            \n",
    "    # For remamining elements in stack print -1\n",
    "    while(stack):\n",
    "         print(stack.pop(),\"->\",\"-1\")"
   ]
  },
  {
   "cell_type": "code",
   "execution_count": 131,
   "metadata": {},
   "outputs": [
    {
     "name": "stdout",
     "output_type": "stream",
     "text": [
      "8 -> 3\n",
      "5 -> 3\n",
      "4 -> 3\n",
      "12 -> 6\n",
      "6 -> 2\n",
      "3 -> 2\n",
      "9 -> -1\n",
      "2 -> -1\n"
     ]
    }
   ],
   "source": [
    "ar=[4,5,8,3,12,6,2,9]\n",
    "findSmaller(ar)"
   ]
  },
  {
   "cell_type": "code",
   "execution_count": null,
   "metadata": {},
   "outputs": [],
   "source": [
    "# stay Tuned :)"
   ]
  }
 ],
 "metadata": {
  "kernelspec": {
   "display_name": "Python 3",
   "language": "python",
   "name": "python3"
  },
  "language_info": {
   "codemirror_mode": {
    "name": "ipython",
    "version": 3
   },
   "file_extension": ".py",
   "mimetype": "text/x-python",
   "name": "python",
   "nbconvert_exporter": "python",
   "pygments_lexer": "ipython3",
   "version": "3.7.3"
  }
 },
 "nbformat": 4,
 "nbformat_minor": 2
}
