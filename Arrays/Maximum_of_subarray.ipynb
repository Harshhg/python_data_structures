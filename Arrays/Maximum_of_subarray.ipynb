{
 "cells": [
  {
   "cell_type": "code",
   "execution_count": null,
   "metadata": {},
   "outputs": [],
   "source": [
    "# Print the Maximum of all subarrays of size k in array A\n",
    "\n",
    "# First input contains number of test cases\n",
    "# Second input contains size and K(size of subarray) seperated by space\n",
    "# Third line contains array A\n",
    "'''\n",
    "Input:\n",
    "2\n",
    "9 3\n",
    "1 2 3 1 4 5 2 3 6\n",
    "10 4\n",
    "8 5 10 7 9 4 15 12 90 13\n",
    "\n",
    "Output:\n",
    "3 3 4 5 5 5 6\n",
    "# Printing the max of (1,2,3) (2,3,1) (3,1,4) (1,4,5) (4,5,2) (5,2,3) (2,3,6)\n",
    "\n",
    "10 10 10 15 15 90 90\n",
    "'''"
   ]
  },
  {
   "cell_type": "code",
   "execution_count": 10,
   "metadata": {},
   "outputs": [
    {
     "name": "stdout",
     "output_type": "stream",
     "text": [
      "1\n",
      "10 4\n",
      "8 5 10 7 9 4 15 12 90 13\n",
      "10 10 10 15 15 90 90 \n"
     ]
    }
   ],
   "source": [
    "tc = int(input())\n",
    "while(tc):\n",
    "    size,k = (input().split(\" \"))\n",
    "    k=int(k)\n",
    "    ar = input().split(\" \")\n",
    "    \n",
    "    count=0\n",
    "    max=0\n",
    "    \n",
    "    # Actual logic begins\n",
    "    for x in ar:        # Traversing array only once\n",
    "        if int(x)>int(max):\n",
    "            max=x\n",
    "        count+=1\n",
    "        \n",
    "        if count==k:    # When subarray is completed\n",
    "            print(max,end=\" \")\n",
    "            count-=1\n",
    "    print(\"\")\n",
    "    tc-=1"
   ]
  }
 ],
 "metadata": {
  "kernelspec": {
   "display_name": "Python 3",
   "language": "python",
   "name": "python3"
  },
  "language_info": {
   "codemirror_mode": {
    "name": "ipython",
    "version": 3
   },
   "file_extension": ".py",
   "mimetype": "text/x-python",
   "name": "python",
   "nbconvert_exporter": "python",
   "pygments_lexer": "ipython3",
   "version": "3.7.3"
  }
 },
 "nbformat": 4,
 "nbformat_minor": 2
}
