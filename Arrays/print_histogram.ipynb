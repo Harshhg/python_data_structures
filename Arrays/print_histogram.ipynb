{
 "cells": [
  {
   "cell_type": "code",
   "execution_count": 29,
   "metadata": {},
   "outputs": [],
   "source": [
    "ar=[7,9,4,2,3]\n",
    "max=0\n",
    "for x in ar:\n",
    "    if x>max:\n",
    "        max=x"
   ]
  },
  {
   "cell_type": "code",
   "execution_count": 30,
   "metadata": {},
   "outputs": [
    {
     "name": "stdout",
     "output_type": "stream",
     "text": [
      "  *       \n",
      "  *       \n",
      "* *       \n",
      "* *       \n",
      "* *       \n",
      "* * *     \n",
      "* * *   * \n",
      "* * * * * \n",
      "* * * * * \n"
     ]
    }
   ],
   "source": [
    "for i in range(max):\n",
    "    for x in ar:\n",
    "        if x<max:\n",
    "            print(\"  \",end=\"\")\n",
    "        else:\n",
    "            print(\"* \",end=\"\")\n",
    "    max-=1\n",
    "    print(\"\")"
   ]
  },
  {
   "cell_type": "code",
   "execution_count": 26,
   "metadata": {},
   "outputs": [],
   "source": [
    "# stay Tuned :)"
   ]
  }
 ],
 "metadata": {
  "kernelspec": {
   "display_name": "Python 3",
   "language": "python",
   "name": "python3"
  },
  "language_info": {
   "codemirror_mode": {
    "name": "ipython",
    "version": 3
   },
   "file_extension": ".py",
   "mimetype": "text/x-python",
   "name": "python",
   "nbconvert_exporter": "python",
   "pygments_lexer": "ipython3",
   "version": "3.7.3"
  }
 },
 "nbformat": 4,
 "nbformat_minor": 2
}
