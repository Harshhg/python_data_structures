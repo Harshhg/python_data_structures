{
 "cells": [
  {
   "cell_type": "code",
   "execution_count": 3,
   "metadata": {},
   "outputs": [],
   "source": [
    "# Sort array of 0, 1 and 2 in O(N) time and O(1) space."
   ]
  },
  {
   "cell_type": "markdown",
   "metadata": {},
   "source": [
    "# Method 1"
   ]
  },
  {
   "cell_type": "code",
   "execution_count": 18,
   "metadata": {},
   "outputs": [],
   "source": [
    "# Using count of 0,1 and 2, and then filling the array"
   ]
  },
  {
   "cell_type": "code",
   "execution_count": 19,
   "metadata": {},
   "outputs": [],
   "source": [
    "a=[2,2,1,0,2,1,1,0,0,2]\n",
    "i=k=j=0\n",
    "for y in range(len(a)):\n",
    "    if a[y]==0:\n",
    "        i+=1\n",
    "    if a[y]==1:\n",
    "        j+=1\n",
    "    if a[y]==2:\n",
    "        k+=1\n",
    "for y in range(len(a)):\n",
    "    if(i>0):\n",
    "        a[y]=0\n",
    "        i-=1\n",
    "    elif(j>0):\n",
    "        a[y]=1\n",
    "        j-=1\n",
    "    else:\n",
    "        a[y]=2\n",
    "        k-=1\n",
    "# This will also take O(N) time."
   ]
  },
  {
   "cell_type": "code",
   "execution_count": 20,
   "metadata": {},
   "outputs": [
    {
     "name": "stdout",
     "output_type": "stream",
     "text": [
      "[0, 0, 0, 1, 1, 1, 2, 2, 2, 2]\n"
     ]
    }
   ],
   "source": [
    "print(a)"
   ]
  },
  {
   "cell_type": "markdown",
   "metadata": {},
   "source": [
    "# Method 2"
   ]
  },
  {
   "cell_type": "code",
   "execution_count": 21,
   "metadata": {},
   "outputs": [],
   "source": [
    "# Using i and j pointer and some manipulation trick :)"
   ]
  },
  {
   "cell_type": "code",
   "execution_count": 22,
   "metadata": {},
   "outputs": [],
   "source": [
    "a=[2,2,1,0,2,1,1,0,0,2]\n",
    "i=0\n",
    "j=len(a)-1\n",
    "for y in range(len(a)):\n",
    "    if y>=j:\n",
    "        if a[y]==0:\n",
    "            a[y]=2\n",
    "            a[i]=0\n",
    "            i+=1\n",
    "            \n",
    "        elif a[y]==2:\n",
    "            a[j]=2\n",
    "            j-=1\n",
    "            \n",
    "        if y==j:\n",
    "            a[y]=1\n",
    "        else:\n",
    "            a[y]=2        \n",
    "    else:\n",
    "        if a[y]==0:\n",
    "            a[y]=1\n",
    "            a[i]=0\n",
    "            i+=1\n",
    "        \n",
    "        if a[y]==2:\n",
    "            a[y]=1\n",
    "            j-=1 "
   ]
  },
  {
   "cell_type": "code",
   "execution_count": 23,
   "metadata": {},
   "outputs": [
    {
     "name": "stdout",
     "output_type": "stream",
     "text": [
      "[0, 0, 0, 1, 1, 1, 2, 2, 2, 2]\n"
     ]
    }
   ],
   "source": [
    "print(a)"
   ]
  },
  {
   "cell_type": "code",
   "execution_count": null,
   "metadata": {},
   "outputs": [],
   "source": [
    "# stay Tuned :)"
   ]
  }
 ],
 "metadata": {
  "kernelspec": {
   "display_name": "Python 3",
   "language": "python",
   "name": "python3"
  },
  "language_info": {
   "codemirror_mode": {
    "name": "ipython",
    "version": 3
   },
   "file_extension": ".py",
   "mimetype": "text/x-python",
   "name": "python",
   "nbconvert_exporter": "python",
   "pygments_lexer": "ipython3",
   "version": "3.7.3"
  }
 },
 "nbformat": 4,
 "nbformat_minor": 2
}
