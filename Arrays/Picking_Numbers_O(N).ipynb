{
 "cells": [
  {
   "cell_type": "code",
   "execution_count": null,
   "metadata": {
    "scrolled": true
   },
   "outputs": [],
   "source": [
    "'''\n",
    "Given an array of integers, find and print the maximum number of integers you can select from the array such that \n",
    "the absolute difference between any two of the chosen integers is less than or equal to 1\n",
    "\n",
    "For ex -  [6,2,1,3,3,5]\n",
    "elements with abs difference < 1 are -  [2,3,3]\n",
    "so the output is 3.\n",
    "\n",
    "For ex - [1 2 2 3 1 2]\n",
    "elements with abs difference < 1 are -  [1,1,2,2,2]\n",
    "so the output is 5.\n",
    "\n",
    "'''\n",
    "# Time complexity - O(N)\n",
    "    "
   ]
  },
  {
   "cell_type": "code",
   "execution_count": 45,
   "metadata": {},
   "outputs": [
    {
     "name": "stdout",
     "output_type": "stream",
     "text": [
      "1 2 2 3 1 2\n"
     ]
    }
   ],
   "source": [
    "ar = list(map(int, input().rstrip().split()))\n",
    "ar.sort()"
   ]
  },
  {
   "cell_type": "code",
   "execution_count": 46,
   "metadata": {},
   "outputs": [
    {
     "name": "stdout",
     "output_type": "stream",
     "text": [
      "5\n"
     ]
    }
   ],
   "source": [
    "mini=0\n",
    "smin=len(ar)-1\n",
    "count=0\n",
    "x=1\n",
    "while(x<len(ar)):\n",
    "    if ar[x] > ar[mini] and ar[x] < ar[smin]:\n",
    "        smin=x\n",
    "    if ar[x] - ar[mini] <=1 :\n",
    "        x+=1\n",
    "        count=max(x-mini,count)\n",
    "    else:\n",
    "        mini=smin\n",
    "        smin=len(ar)-1\n",
    "print(count)"
   ]
  },
  {
   "cell_type": "code",
   "execution_count": 47,
   "metadata": {},
   "outputs": [],
   "source": [
    "# We also have better solution in O(1) using HASHING (Go to hashing page). "
   ]
  }
 ],
 "metadata": {
  "kernelspec": {
   "display_name": "Python 3",
   "language": "python",
   "name": "python3"
  },
  "language_info": {
   "codemirror_mode": {
    "name": "ipython",
    "version": 3
   },
   "file_extension": ".py",
   "mimetype": "text/x-python",
   "name": "python",
   "nbconvert_exporter": "python",
   "pygments_lexer": "ipython3",
   "version": "3.7.3"
  }
 },
 "nbformat": 4,
 "nbformat_minor": 2
}
