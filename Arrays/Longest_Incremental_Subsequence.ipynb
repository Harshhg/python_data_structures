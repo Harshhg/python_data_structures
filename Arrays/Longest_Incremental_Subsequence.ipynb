{
 "cells": [
  {
   "cell_type": "code",
   "execution_count": null,
   "metadata": {},
   "outputs": [],
   "source": [
    "# Longest Incremental Subsequence\n",
    "# Time Complexity - O(N)"
   ]
  },
  {
   "cell_type": "code",
   "execution_count": 41,
   "metadata": {},
   "outputs": [],
   "source": [
    "ar=[1,2,4,3,5,7,9,6,7,8,2,4,0]\n",
    "ci=0\n",
    "start=0\n",
    "end=0\n",
    "for j in range(1,len(ar)):\n",
    "    if ar[j]>ar[j-1]:\n",
    "        continue\n",
    "    else:\n",
    "        if j-ci > end-start:\n",
    "            start=ci\n",
    "            end=j-1\n",
    "        ci=j       "
   ]
  },
  {
   "cell_type": "code",
   "execution_count": 44,
   "metadata": {},
   "outputs": [
    {
     "name": "stdout",
     "output_type": "stream",
     "text": [
      "3 5 7 9 "
     ]
    }
   ],
   "source": [
    "for x in range(start,end+1):\n",
    "    print(ar[x],end=\" \")"
   ]
  },
  {
   "cell_type": "code",
   "execution_count": 43,
   "metadata": {},
   "outputs": [],
   "source": [
    "# stay Tuned :)"
   ]
  }
 ],
 "metadata": {
  "kernelspec": {
   "display_name": "Python 3",
   "language": "python",
   "name": "python3"
  },
  "language_info": {
   "codemirror_mode": {
    "name": "ipython",
    "version": 3
   },
   "file_extension": ".py",
   "mimetype": "text/x-python",
   "name": "python",
   "nbconvert_exporter": "python",
   "pygments_lexer": "ipython3",
   "version": "3.7.3"
  }
 },
 "nbformat": 4,
 "nbformat_minor": 2
}
