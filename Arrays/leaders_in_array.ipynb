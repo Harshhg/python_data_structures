{
 "cells": [
  {
   "cell_type": "code",
   "execution_count": 10,
   "metadata": {},
   "outputs": [
    {
     "name": "stdout",
     "output_type": "stream",
     "text": [
      "1\n",
      "1\n",
      "16 17 4 3 5 2\n",
      "17 5 2 "
     ]
    }
   ],
   "source": [
    "'''\n",
    "Given an array of positive integers. Your task is to find the leaders in the array.\n",
    "An element of array is leader if it is greater than or equal to all the elements to its right side. Also, the rightmost element is always a leader. \n",
    "\n",
    "'''\n",
    "# First input contains number of test cases\n",
    "# Second input contains size \n",
    "# Third line contains array\n",
    "'''\n",
    "Input:\n",
    "2\n",
    "6\n",
    "16 17 4 3 5 2\n",
    "5\n",
    "1 2 3 4 0\n",
    "Output:\n",
    "17 5 2\n",
    "4 0\n",
    "\n",
    "'''"
   ]
  },
  {
   "cell_type": "code",
   "execution_count": null,
   "metadata": {},
   "outputs": [],
   "source": [
    "tc = int(input())\n",
    "while(tc):\n",
    "    size = input()\n",
    "    ar = input().split(\" \")\n",
    "    \n",
    "    i=len(ar)-1\n",
    "    max = ar[i]\n",
    "    leader=[]\n",
    "    while(i):\n",
    "        if int(ar[i])>int(max):\n",
    "            leader.append(max)\n",
    "            max=ar[i]\n",
    "        i-=1\n",
    "    \n",
    "    leader.append(max)\n",
    "    while(leader):\n",
    "        print(leader.pop(),end=\" \")\n",
    "    \n",
    "    print(\"\")\n",
    "    \n",
    "    tc-=1\n",
    "    "
   ]
  }
 ],
 "metadata": {
  "kernelspec": {
   "display_name": "Python 3",
   "language": "python",
   "name": "python3"
  },
  "language_info": {
   "codemirror_mode": {
    "name": "ipython",
    "version": 3
   },
   "file_extension": ".py",
   "mimetype": "text/x-python",
   "name": "python",
   "nbconvert_exporter": "python",
   "pygments_lexer": "ipython3",
   "version": "3.7.3"
  }
 },
 "nbformat": 4,
 "nbformat_minor": 2
}
