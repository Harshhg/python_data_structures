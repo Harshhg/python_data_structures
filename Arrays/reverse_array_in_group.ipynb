{
 "cells": [
  {
   "cell_type": "code",
   "execution_count": 1,
   "metadata": {},
   "outputs": [
    {
     "data": {
      "text/plain": [
       "'\\nInput:\\n2\\n5 2\\n1 2 3 4 5 \\n10 3\\n2 4 6 8 10 12 14 16 18 20\\n\\nOutput:\\n3 4 5 1 2\\n8 10 12 14 16 18 20 2 4 6\\n\\n'"
      ]
     },
     "execution_count": 1,
     "metadata": {},
     "output_type": "execute_result"
    }
   ],
   "source": [
    "# Reversing the Array in group\n",
    "\n",
    "# First input contains number of test cases\n",
    "# Second input contains size and No of groups seperated by space\n",
    "# Third line contains array\n",
    "'''\n",
    "Input\n",
    "2\n",
    "5 3\n",
    "1 2 3 4 5\n",
    "6 2\n",
    "10 20 30 40 50 60\n",
    "\n",
    "Output\n",
    "3 2 1 5 4\n",
    "20 10 40 30 60 50\n",
    "\n",
    "'''"
   ]
  },
  {
   "cell_type": "code",
   "execution_count": 8,
   "metadata": {},
   "outputs": [
    {
     "name": "stdout",
     "output_type": "stream",
     "text": [
      "1\n",
      "5 2\n",
      "1 2 3 4 5\n",
      "2 1 4 3 5 \n"
     ]
    }
   ],
   "source": [
    "tc = int(input())\n",
    "while(tc):\n",
    "    size,group = (input().split(\" \"))\n",
    "    group=int(group)\n",
    "    ar = input().split(\" \")\n",
    "    new=[]\n",
    "    start=0\n",
    "    \n",
    "    while(start<int(size)):\n",
    "        end=(start+group)-1\n",
    "        i=end\n",
    "        \n",
    "        while(i>=start):\n",
    "            if i<int(size):\n",
    "                new.append(ar[i])\n",
    "            i-=1\n",
    "        start = end+1\n",
    "    \n",
    "    for x in new:\n",
    "        print(x, end=\" \")\n",
    "    print(\"\")\n",
    "    \n",
    "    \n",
    "    tc-=1"
   ]
  },
  {
   "cell_type": "code",
   "execution_count": null,
   "metadata": {},
   "outputs": [],
   "source": [
    "# stay Tuned :)"
   ]
  }
 ],
 "metadata": {
  "kernelspec": {
   "display_name": "Python 3",
   "language": "python",
   "name": "python3"
  },
  "language_info": {
   "codemirror_mode": {
    "name": "ipython",
    "version": 3
   },
   "file_extension": ".py",
   "mimetype": "text/x-python",
   "name": "python",
   "nbconvert_exporter": "python",
   "pygments_lexer": "ipython3",
   "version": "3.7.3"
  }
 },
 "nbformat": 4,
 "nbformat_minor": 2
}
