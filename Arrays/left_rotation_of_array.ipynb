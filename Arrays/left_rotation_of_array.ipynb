{
 "cells": [
  {
   "cell_type": "code",
   "execution_count": 6,
   "metadata": {},
   "outputs": [],
   "source": [
    "# Left Rotation of an array D times.\n",
    "# Time complexity O(n)\n",
    "# Space complexity O(d)"
   ]
  },
  {
   "cell_type": "code",
   "execution_count": 21,
   "metadata": {},
   "outputs": [],
   "source": [
    "def rotateLeft(a, d):\n",
    "    size=len(a)\n",
    "    if d>=size:\n",
    "        rotate = d%size\n",
    "    else:\n",
    "        rotate=d\n",
    "    ar=[]\n",
    "    ar.append(a[rotate])\n",
    "    i=rotate+1\n",
    "    while(i%size != rotate):\n",
    "        ar.append(a[i%size])\n",
    "        i=i%size + 1\n",
    "    return ar\n"
   ]
  },
  {
   "cell_type": "code",
   "execution_count": 30,
   "metadata": {},
   "outputs": [
    {
     "name": "stdout",
     "output_type": "stream",
     "text": [
      "[5, 1, 2, 3, 4]\n"
     ]
    }
   ],
   "source": [
    "a=[1,2,3,4,5] # Array\n",
    "d=4 # Number of rotations\n",
    "\n",
    "result = rotateLeft(a, d)\n",
    "print(result)"
   ]
  },
  {
   "cell_type": "code",
   "execution_count": null,
   "metadata": {},
   "outputs": [],
   "source": [
    "# stay Tuned :)"
   ]
  }
 ],
 "metadata": {
  "kernelspec": {
   "display_name": "Python 3",
   "language": "python",
   "name": "python3"
  },
  "language_info": {
   "codemirror_mode": {
    "name": "ipython",
    "version": 3
   },
   "file_extension": ".py",
   "mimetype": "text/x-python",
   "name": "python",
   "nbconvert_exporter": "python",
   "pygments_lexer": "ipython3",
   "version": "3.7.3"
  }
 },
 "nbformat": 4,
 "nbformat_minor": 2
}
