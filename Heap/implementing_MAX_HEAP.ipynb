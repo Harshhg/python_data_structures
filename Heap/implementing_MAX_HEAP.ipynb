{
 "cells": [
  {
   "cell_type": "code",
   "execution_count": null,
   "metadata": {},
   "outputs": [],
   "source": [
    "# Implementing MAX-HEAP from scratch.\n",
    "# The max-heap array is created, which can be used to form the heap, by level order traversal.\n",
    "# max heap array - [14, 10, 5, 6, 1, 2]\n",
    "'''\n",
    "     14\n",
    "    /   \\\n",
    "  10     5\n",
    "  / \\   /\n",
    " 6   1 2\n",
    "\n",
    "'''\n",
    "# Maximum element in max-heap can be found in O(1). since the first element is the max."
   ]
  },
  {
   "cell_type": "code",
   "execution_count": 15,
   "metadata": {},
   "outputs": [],
   "source": [
    "maxheap=[]\n",
    "heap_size = 0"
   ]
  },
  {
   "cell_type": "code",
   "execution_count": 16,
   "metadata": {},
   "outputs": [],
   "source": [
    "# This function finds the root of the current element. (i-1)/2  is the index of root of current element\n",
    "def parent(i):\n",
    "    return int((i-1)/2)"
   ]
  },
  {
   "cell_type": "code",
   "execution_count": 17,
   "metadata": {},
   "outputs": [],
   "source": [
    "# Function to insert element in min heap\n",
    "def insert(element):\n",
    "    global heap_size\n",
    "    \n",
    "    heap_size+=1\n",
    "    i = heap_size -1 \n",
    "    maxheap.append(element)   # Appending the new element at the end of the heap.\n",
    "    \n",
    "    # if root element is smaller than current element-swap\n",
    "    while(i != 0 and maxheap[parent(i)] < maxheap[i]):  \n",
    "        maxheap[parent(i)], maxheap[i] = maxheap[i], maxheap[parent(i)]  # swapping\n",
    "        i=parent(i)  # Making i as the root element by which we have swapped it."
   ]
  },
  {
   "cell_type": "code",
   "execution_count": 18,
   "metadata": {},
   "outputs": [],
   "source": [
    "insert(10)\n",
    "insert(14)\n",
    "insert(2)\n",
    "insert(6)\n",
    "insert(1)\n",
    "insert(5)"
   ]
  },
  {
   "cell_type": "code",
   "execution_count": 19,
   "metadata": {},
   "outputs": [
    {
     "data": {
      "text/plain": [
       "[14, 10, 5, 6, 1, 2]"
      ]
     },
     "execution_count": 19,
     "metadata": {},
     "output_type": "execute_result"
    }
   ],
   "source": [
    "print(maxheap)"
   ]
  },
  {
   "cell_type": "code",
   "execution_count": null,
   "metadata": {},
   "outputs": [],
   "source": [
    "# stay Tuned :)"
   ]
  }
 ],
 "metadata": {
  "kernelspec": {
   "display_name": "Python 3",
   "language": "python",
   "name": "python3"
  },
  "language_info": {
   "codemirror_mode": {
    "name": "ipython",
    "version": 3
   },
   "file_extension": ".py",
   "mimetype": "text/x-python",
   "name": "python",
   "nbconvert_exporter": "python",
   "pygments_lexer": "ipython3",
   "version": "3.7.3"
  }
 },
 "nbformat": 4,
 "nbformat_minor": 2
}
