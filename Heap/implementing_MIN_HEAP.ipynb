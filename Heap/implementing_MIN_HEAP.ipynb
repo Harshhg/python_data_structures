{
 "cells": [
  {
   "cell_type": "code",
   "execution_count": null,
   "metadata": {},
   "outputs": [],
   "source": [
    "# Implementing Binary MIN-HEAP from scratch.\n",
    "# The min-heap array is created, which can be used to form the heap, by level order traversal.\n",
    "# min heap array - [1, 2, 5, 14, 6, 10]\n",
    "'''\n",
    "      1\n",
    "    /   \\\n",
    "   2      5\n",
    "  / \\    /\n",
    "14   6  10\n",
    "\n",
    "'''\n",
    "# Minimum element in min-heap can be found in O(1). Since the first element is always min."
   ]
  },
  {
   "cell_type": "code",
   "execution_count": 8,
   "metadata": {},
   "outputs": [],
   "source": [
    "minheap=[]\n",
    "heap_size = 0"
   ]
  },
  {
   "cell_type": "code",
   "execution_count": 9,
   "metadata": {},
   "outputs": [],
   "source": [
    "# This function finds the root of the current element. (i-1)/2  is the index of root of current element\n",
    "def parent(i):\n",
    "    return int((i-1)/2)"
   ]
  },
  {
   "cell_type": "code",
   "execution_count": 10,
   "metadata": {},
   "outputs": [],
   "source": [
    "# Function to insert element in min heap\n",
    "def insert(element):\n",
    "    global heap_size\n",
    "    \n",
    "    heap_size+=1\n",
    "    i = heap_size -1 \n",
    "    minheap.append(element)  # Adding the new element at the last of the heap.\n",
    "    \n",
    "    # if root element is greater than current element-swap\n",
    "    while(i != 0 and minheap[parent(i)] > minheap[i]): \n",
    "        minheap[parent(i)], minheap[i] = minheap[i], minheap[parent(i)]  # swapping\n",
    "        i=parent(i)  # Making i as the root element by which we have swapped it."
   ]
  },
  {
   "cell_type": "code",
   "execution_count": 11,
   "metadata": {},
   "outputs": [],
   "source": [
    "insert(10)\n",
    "insert(14)\n",
    "insert(2)\n",
    "insert(6)\n",
    "insert(1)\n",
    "insert(5)"
   ]
  },
  {
   "cell_type": "code",
   "execution_count": 12,
   "metadata": {},
   "outputs": [
    {
     "data": {
      "text/plain": [
       "[1, 2, 5, 14, 6, 10]"
      ]
     },
     "execution_count": 12,
     "metadata": {},
     "output_type": "execute_result"
    }
   ],
   "source": [
    "minheap"
   ]
  },
  {
   "cell_type": "code",
   "execution_count": null,
   "metadata": {},
   "outputs": [],
   "source": [
    "# stay Tuned :)"
   ]
  }
 ],
 "metadata": {
  "kernelspec": {
   "display_name": "Python 3",
   "language": "python",
   "name": "python3"
  },
  "language_info": {
   "codemirror_mode": {
    "name": "ipython",
    "version": 3
   },
   "file_extension": ".py",
   "mimetype": "text/x-python",
   "name": "python",
   "nbconvert_exporter": "python",
   "pygments_lexer": "ipython3",
   "version": "3.7.3"
  }
 },
 "nbformat": 4,
 "nbformat_minor": 2
}
