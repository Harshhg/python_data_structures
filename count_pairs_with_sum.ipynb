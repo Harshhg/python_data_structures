{
 "cells": [
  {
   "cell_type": "code",
   "execution_count": 40,
   "metadata": {},
   "outputs": [],
   "source": [
    "# Given an array of integers, and a number ‘sum’\n",
    "# find the number of pairs of integers in the array whose sum is equal to ‘sum’.\n",
    "# Expected Time complexity is O(N)\n",
    "# Implemented using Hashing"
   ]
  },
  {
   "cell_type": "code",
   "execution_count": 44,
   "metadata": {},
   "outputs": [],
   "source": [
    "def findPair(ar,sum):\n",
    "    # Intializing hash with each elements and their frequency\n",
    "    hash={}\n",
    "    for x in (ar):\n",
    "        if x not in hash:\n",
    "            hash[x] = 1\n",
    "        else:\n",
    "            hash[x] += 1\n",
    "    \n",
    "    count = 0\n",
    "    # Traversing the array\n",
    "    for x in ar:\n",
    "        hash[x]-=1\n",
    "        # If (sum-current element) is found in hash, then it will be counted as pair.\n",
    "        if sum-x in hash and hash[sum-x]>0:  \n",
    "            count+=hash[sum-x] # Number of times it occurs, the number of pairs it have.\n",
    "            \n",
    "    print(\"Total Pairs are : \", count)"
   ]
  },
  {
   "cell_type": "code",
   "execution_count": 48,
   "metadata": {},
   "outputs": [
    {
     "name": "stdout",
     "output_type": "stream",
     "text": [
      "Total Pairs are :  3\n"
     ]
    }
   ],
   "source": [
    "ar=[1,5,7,-1,5]\n",
    "sum=6\n",
    "findPair(ar,sum)"
   ]
  },
  {
   "cell_type": "code",
   "execution_count": null,
   "metadata": {},
   "outputs": [],
   "source": [
    "# stay Tuned :)"
   ]
  }
 ],
 "metadata": {
  "kernelspec": {
   "display_name": "Python 3",
   "language": "python",
   "name": "python3"
  },
  "language_info": {
   "codemirror_mode": {
    "name": "ipython",
    "version": 3
   },
   "file_extension": ".py",
   "mimetype": "text/x-python",
   "name": "python",
   "nbconvert_exporter": "python",
   "pygments_lexer": "ipython3",
   "version": "3.7.3"
  }
 },
 "nbformat": 4,
 "nbformat_minor": 2
}
