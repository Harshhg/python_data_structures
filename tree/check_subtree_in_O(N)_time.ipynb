{
 "cells": [
  {
   "cell_type": "code",
   "execution_count": 82,
   "metadata": {},
   "outputs": [],
   "source": [
    "# Optimized Algorithm -  Checking if a tree T2 is a subtree of tree T1 in O(n) time.\n",
    "'''\n",
    "T1 ->\n",
    "         15\n",
    "       /    \\\n",
    "     12      20\n",
    "    /  \\    /   \\\n",
    "   8   14  17   22\n",
    "  /\n",
    " 9\n",
    "\n",
    "'''\n",
    "'''\n",
    "T2 ->\n",
    "       12     \n",
    "      /  \\    \n",
    "     8   14  \n",
    "    /\n",
    "   9\n",
    "\n",
    "'''"
   ]
  },
  {
   "cell_type": "code",
   "execution_count": 8,
   "metadata": {},
   "outputs": [],
   "source": [
    "class Node:\n",
    "    def __init__(self,data):\n",
    "        self.data = data\n",
    "        self.left = None\n",
    "        self.right = None"
   ]
  },
  {
   "cell_type": "code",
   "execution_count": 71,
   "metadata": {},
   "outputs": [],
   "source": [
    "# Creating Tree T1\n",
    "t1 = Node(15)\n",
    "t1.left = Node(12)\n",
    "t1.right = Node(20)\n",
    "\n",
    "t1.left.left = Node(8)\n",
    "t1.left.right = Node(14)\n",
    " \n",
    "t1.right.left = Node(17)\n",
    "t1.right.right = Node(22)\n",
    "\n",
    "t1.left.left.left = Node(9)"
   ]
  },
  {
   "cell_type": "code",
   "execution_count": 72,
   "metadata": {},
   "outputs": [],
   "source": [
    "# Creating Tree T2\n",
    "t2 = Node(12)\n",
    "t2.left = Node(8)\n",
    "t2.right = Node(14)\n",
    "t2.left.left = Node(9)"
   ]
  },
  {
   "cell_type": "code",
   "execution_count": 73,
   "metadata": {},
   "outputs": [],
   "source": [
    "# Store inorder traversal \n",
    "def inorder(root,ar):\n",
    "    if not root:\n",
    "        ar.append(\"-\")    # Appending a symbol if null is encounter.. (corner cases)\n",
    "        return ar\n",
    "    ar = inorder(root.left,ar)\n",
    "    ar.append(root.data)\n",
    "    ar = inorder(root.right,ar)\n",
    "    return ar"
   ]
  },
  {
   "cell_type": "code",
   "execution_count": 74,
   "metadata": {},
   "outputs": [],
   "source": [
    "# Store preorder traversal \n",
    "def preorder(root,ar):\n",
    "    if not root:\n",
    "        ar.append(\"-\")\n",
    "        return ar\n",
    "    ar.append(root.data)\n",
    "    ar = preorder(root.left,ar)\n",
    "    ar = preorder(root.right,ar)\n",
    "    return ar"
   ]
  },
  {
   "cell_type": "code",
   "execution_count": 75,
   "metadata": {},
   "outputs": [],
   "source": [
    "# Checking if one array is subarray of other..  O(n) time\n",
    "def checkSubArray(inT1, inT2):\n",
    "    if inT1 is None and inT2 is None:\n",
    "        return True\n",
    "    if inT1 is None or inT2 is None: \n",
    "        return False\n",
    "    i=0\n",
    "    for x in inT1:\n",
    "        if  i==len(inT2):\n",
    "            return True\n",
    "        if x == inT2[i]:\n",
    "            i+=1\n",
    "        else:\n",
    "            i=0\n",
    "    return False"
   ]
  },
  {
   "cell_type": "code",
   "execution_count": 80,
   "metadata": {},
   "outputs": [],
   "source": [
    "def checkSubTree(t1,t2):\n",
    "    if not t1:\n",
    "        return False\n",
    "    if not t2:\n",
    "        return True\n",
    "    \n",
    "    inT1 = []\n",
    "    inT2 = []\n",
    "    preT1 = []\n",
    "    preT2 = []\n",
    "    \n",
    "    # Getting inorder traversal of both trees\n",
    "    inT1 = inorder(t1,inT1)\n",
    "    inT2 = inorder(t2,inT2)\n",
    "    \n",
    "    # Getting preorder traversal of both trees\n",
    "    preT1 = preorder(t1,preT1)\n",
    "    preT2 = preorder(t2, preT2)\n",
    "    \n",
    "    # Checking if inorder of t2 is subarray of inorder of t1\n",
    "    return checkSubArray(inT1,inT2) and checkSubArray(preT1,preT2)"
   ]
  },
  {
   "cell_type": "code",
   "execution_count": 81,
   "metadata": {},
   "outputs": [
    {
     "name": "stdout",
     "output_type": "stream",
     "text": [
      "True\n"
     ]
    }
   ],
   "source": [
    "print(checkSubTree(t1,t2))"
   ]
  },
  {
   "cell_type": "code",
   "execution_count": null,
   "metadata": {},
   "outputs": [],
   "source": [
    "# stay Tuned :)"
   ]
  }
 ],
 "metadata": {
  "kernelspec": {
   "display_name": "Python 3",
   "language": "python",
   "name": "python3"
  },
  "language_info": {
   "codemirror_mode": {
    "name": "ipython",
    "version": 3
   },
   "file_extension": ".py",
   "mimetype": "text/x-python",
   "name": "python",
   "nbconvert_exporter": "python",
   "pygments_lexer": "ipython3",
   "version": "3.7.3"
  }
 },
 "nbformat": 4,
 "nbformat_minor": 2
}
