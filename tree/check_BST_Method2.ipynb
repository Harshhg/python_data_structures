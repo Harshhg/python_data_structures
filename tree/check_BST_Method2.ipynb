{
 "cells": [
  {
   "cell_type": "code",
   "execution_count": 14,
   "metadata": {},
   "outputs": [],
   "source": [
    "# Checking BST without inorder traversal\n",
    "'''\n",
    "         15\n",
    "       /    \\\n",
    "     12      20\n",
    "    /  \\    /   \\\n",
    "   8   14  17   22\n",
    "\n",
    "'''"
   ]
  },
  {
   "cell_type": "code",
   "execution_count": 15,
   "metadata": {},
   "outputs": [],
   "source": [
    "class Node:\n",
    "    def __init__(self,data):\n",
    "        self.data = data\n",
    "        self.left = None\n",
    "        self.right = None"
   ]
  },
  {
   "cell_type": "code",
   "execution_count": 21,
   "metadata": {},
   "outputs": [],
   "source": [
    "# Creating a BST\n",
    "root = Node(15)\n",
    "root.left = Node(12)\n",
    "root.right = Node(20)\n",
    "\n",
    "root.left.left = Node(8)\n",
    "root.left.right = Node(14)\n",
    "\n",
    "root.right.left = Node(17)\n",
    "root.right.right = Node(22)"
   ]
  },
  {
   "cell_type": "code",
   "execution_count": 27,
   "metadata": {},
   "outputs": [],
   "source": [
    "def checkBST(temp, min, max):\n",
    "    if temp is None:\n",
    "        return True\n",
    "    \n",
    "    if temp.data < min or temp.data > max:\n",
    "        return False\n",
    "        \n",
    "    l = checkBST(temp.left, min, temp.data-1)  # Setting node data as max value for left tree\n",
    "    r = checkBST(temp.right, temp.data+1, max)  # Setting node data as min value for right tree\n",
    "    return l and r"
   ]
  },
  {
   "cell_type": "code",
   "execution_count": 26,
   "metadata": {},
   "outputs": [
    {
     "name": "stdout",
     "output_type": "stream",
     "text": [
      "True\n"
     ]
    }
   ],
   "source": [
    "min = 0\n",
    "max = 100000\n",
    "print(checkBST(root,min,max))"
   ]
  },
  {
   "cell_type": "code",
   "execution_count": null,
   "metadata": {},
   "outputs": [],
   "source": [
    "# stay tuned :)"
   ]
  }
 ],
 "metadata": {
  "kernelspec": {
   "display_name": "Python 3",
   "language": "python",
   "name": "python3"
  },
  "language_info": {
   "codemirror_mode": {
    "name": "ipython",
    "version": 3
   },
   "file_extension": ".py",
   "mimetype": "text/x-python",
   "name": "python",
   "nbconvert_exporter": "python",
   "pygments_lexer": "ipython3",
   "version": "3.7.3"
  }
 },
 "nbformat": 4,
 "nbformat_minor": 2
}
