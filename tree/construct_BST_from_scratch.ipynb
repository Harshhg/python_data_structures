{
 "cells": [
  {
   "cell_type": "code",
   "execution_count": 1,
   "metadata": {},
   "outputs": [],
   "source": [
    "# Constructing Binary Search Tree from scratch\n",
    "'''\n",
    "      13\n",
    "    /    \\\n",
    "   7      16\n",
    "  / \\     /\n",
    " 4   8   14\n",
    "      \\\n",
    "       12\n",
    "'''"
   ]
  },
  {
   "cell_type": "code",
   "execution_count": 2,
   "metadata": {},
   "outputs": [],
   "source": [
    "class Node:\n",
    "    def __init__(self,data):\n",
    "        self.data = data\n",
    "        self.left = None\n",
    "        self.right = None"
   ]
  },
  {
   "cell_type": "code",
   "execution_count": 3,
   "metadata": {},
   "outputs": [],
   "source": [
    "# Inserting in Binary Tree\n",
    "def insert(temp,data):\n",
    "    if temp:\n",
    "        if data < temp.data:\n",
    "            if temp.left is None:\n",
    "                temp.left = Node(data)\n",
    "            else:\n",
    "                insert(temp.left,data)\n",
    "             \n",
    "                \n",
    "        elif data > temp.data:\n",
    "            if temp.right is None:\n",
    "                temp.right = Node(data)\n",
    "\n",
    "            else:\n",
    "                insert(temp.right,data)\n",
    "           \n",
    "    else:\n",
    "        temp = Node(data)"
   ]
  },
  {
   "cell_type": "code",
   "execution_count": 4,
   "metadata": {},
   "outputs": [],
   "source": [
    "# Inorder check\n",
    "def inorder(root):\n",
    "    if not root:\n",
    "        return 0\n",
    "    inorder(root.left)\n",
    "    print(root.data, end='-')\n",
    "    inorder(root.right)"
   ]
  },
  {
   "cell_type": "code",
   "execution_count": 7,
   "metadata": {},
   "outputs": [
    {
     "name": "stdout",
     "output_type": "stream",
     "text": [
      "enter number of elements :\n",
      "6\n",
      "Enter element : 7\n",
      "Enter element : 4\n",
      "Enter element : 8\n",
      "Enter element : 16\n",
      "Enter element : 14\n",
      "Enter element : 12\n",
      "4-7-8-12-13-14-16-"
     ]
    }
   ],
   "source": [
    "# Driver Program\n",
    "root= Node(13)  # Root node is fixed\n",
    "print(\"enter number of elements :\")\n",
    "n = int(input())\n",
    "while n:\n",
    "    element = int(input(\"Enter element : \"))\n",
    "    insert(root,element)\n",
    "    n-=1\n",
    "\n",
    "# Printing Inorder\n",
    "inorder(root)"
   ]
  },
  {
   "cell_type": "code",
   "execution_count": null,
   "metadata": {},
   "outputs": [],
   "source": [
    "# stay Tuned :)"
   ]
  }
 ],
 "metadata": {
  "kernelspec": {
   "display_name": "Python 3",
   "language": "python",
   "name": "python3"
  },
  "language_info": {
   "codemirror_mode": {
    "name": "ipython",
    "version": 3
   },
   "file_extension": ".py",
   "mimetype": "text/x-python",
   "name": "python",
   "nbconvert_exporter": "python",
   "pygments_lexer": "ipython3",
   "version": "3.7.3"
  }
 },
 "nbformat": 4,
 "nbformat_minor": 2
}
