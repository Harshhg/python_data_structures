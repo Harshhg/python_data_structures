{
 "cells": [
  {
   "cell_type": "code",
   "execution_count": 1,
   "metadata": {},
   "outputs": [],
   "source": [
    "# Find the length of the longest consecutive subsequence in array.\n",
    "# Consecutive sequence can be in any order.\n",
    "\n",
    "'''\n",
    "Input:\n",
    "2\n",
    "7\n",
    "2 6 1 9 4 5 3\n",
    "7\n",
    "1 9 3 10 4 20 2\n",
    "\n",
    "Output:\n",
    "6      (1,2,3,4,5,6)\n",
    "4      (1,2,3,4)\n",
    "'''"
   ]
  },
  {
   "cell_type": "code",
   "execution_count": 2,
   "metadata": {},
   "outputs": [],
   "source": [
    "ar=[2,6,7,1,9,4,5,3]"
   ]
  },
  {
   "cell_type": "code",
   "execution_count": 6,
   "metadata": {},
   "outputs": [],
   "source": [
    "# Creating hash table and mapping values.\n",
    "hash={}\n",
    "for x in ar:\n",
    "    if x not in hash:\n",
    "        hash[x]=1"
   ]
  },
  {
   "cell_type": "code",
   "execution_count": 4,
   "metadata": {},
   "outputs": [],
   "source": [
    "maxcount=0\n",
    "count=0\n",
    "for x in ar:\n",
    "    count=0\n",
    "    if x-1 in hash:\n",
    "        count+=1 \n",
    "    temp=x\n",
    "    while(temp in hash):\n",
    "        count+=1\n",
    "        temp+=1\n",
    "    maxcount= max(maxcount,count)"
   ]
  },
  {
   "cell_type": "code",
   "execution_count": 5,
   "metadata": {},
   "outputs": [
    {
     "name": "stdout",
     "output_type": "stream",
     "text": [
      "4\n"
     ]
    }
   ],
   "source": [
    "print(maxcount)"
   ]
  },
  {
   "cell_type": "code",
   "execution_count": null,
   "metadata": {},
   "outputs": [],
   "source": [
    "# stay Tuned :)"
   ]
  }
 ],
 "metadata": {
  "kernelspec": {
   "display_name": "Python 3",
   "language": "python",
   "name": "python3"
  },
  "language_info": {
   "codemirror_mode": {
    "name": "ipython",
    "version": 3
   },
   "file_extension": ".py",
   "mimetype": "text/x-python",
   "name": "python",
   "nbconvert_exporter": "python",
   "pygments_lexer": "ipython3",
   "version": "3.7.3"
  }
 },
 "nbformat": 4,
 "nbformat_minor": 2
}
