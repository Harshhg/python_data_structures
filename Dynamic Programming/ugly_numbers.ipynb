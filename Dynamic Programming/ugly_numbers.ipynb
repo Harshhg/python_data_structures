{
 "cells": [
  {
   "cell_type": "code",
   "execution_count": 38,
   "metadata": {},
   "outputs": [],
   "source": [
    "# Ugly numbers are numbers whose only prime factors are 2, 3 or 5. \n",
    "# The sequence 1, 2, 3, 4, 5, 6, 8, 9, 10, 12, 15, … shows the first 11 ugly numbers.\n",
    "# Given a number n, the task is to find n’th Ugly number.\n",
    "# This approach is not optimized."
   ]
  },
  {
   "cell_type": "code",
   "execution_count": 39,
   "metadata": {},
   "outputs": [],
   "source": [
    "def divide(a,b):\n",
    "    while(a%b==0):\n",
    "        a=a/b\n",
    "    return a"
   ]
  },
  {
   "cell_type": "code",
   "execution_count": 40,
   "metadata": {},
   "outputs": [],
   "source": [
    "def isUgly(no):\n",
    "    no = divide(no,2)\n",
    "    no = divide(no,3)\n",
    "    no = divide(no,5)\n",
    "    return True if no ==1 else False"
   ]
  },
  {
   "cell_type": "code",
   "execution_count": 41,
   "metadata": {},
   "outputs": [],
   "source": [
    "def find(n):\n",
    "    i=1\n",
    "    count=1\n",
    "    while(count<n):\n",
    "        i+=1\n",
    "        if (isUgly(i)):\n",
    "            count+=1\n",
    "    return i"
   ]
  },
  {
   "cell_type": "code",
   "execution_count": 43,
   "metadata": {},
   "outputs": [
    {
     "name": "stdout",
     "output_type": "stream",
     "text": [
      "5832\n",
      "Execution Time :  0.010759592056274414\n"
     ]
    }
   ],
   "source": [
    "import time\n",
    "start_time = time.time()\n",
    "n=150\n",
    "res = find(n)\n",
    "time = time.time() - start_time\n",
    "print(res)\n",
    "print(\"Execution Time : \" ,time)\n"
   ]
  },
  {
   "cell_type": "code",
   "execution_count": null,
   "metadata": {},
   "outputs": [],
   "source": [
    "# stay Tuned :)"
   ]
  }
 ],
 "metadata": {
  "kernelspec": {
   "display_name": "Python 3",
   "language": "python",
   "name": "python3"
  },
  "language_info": {
   "codemirror_mode": {
    "name": "ipython",
    "version": 3
   },
   "file_extension": ".py",
   "mimetype": "text/x-python",
   "name": "python",
   "nbconvert_exporter": "python",
   "pygments_lexer": "ipython3",
   "version": "3.7.3"
  }
 },
 "nbformat": 4,
 "nbformat_minor": 2
}
