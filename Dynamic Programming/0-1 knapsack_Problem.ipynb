{
 "cells": [
  {
   "cell_type": "code",
   "execution_count": 1,
   "metadata": {},
   "outputs": [],
   "source": [
    "#  0 - 1 Knapsack Problem using Recursion ( Without Dynamic Programming )"
   ]
  },
  {
   "cell_type": "code",
   "execution_count": 19,
   "metadata": {},
   "outputs": [],
   "source": [
    "def knapsack(maxW, weight, val, items):\n",
    "    # if bag capacity becomes full (maxW=0), or we have traversed all items, return 0\n",
    "    if items ==0  or maxW == 0:\n",
    "        return 0\n",
    "    \n",
    "    # If current item weight is more than bag capacity(maxW), we cannot include that item, so move to next item.\n",
    "    if maxW < weight[items]:\n",
    "        return knapsack(maxW, weight, val, items-1)\n",
    "    \n",
    "    else:\n",
    "        including    =  knapsack(maxW-weight[items], weight, val, items - 1)  + val[items]  # Including current item\n",
    "        notIncluding =  knapsack(maxW, weight, val, items - 1)                              # Not Including current item\n",
    "        \n",
    "        return max(including,notIncluding)"
   ]
  },
  {
   "cell_type": "code",
   "execution_count": 21,
   "metadata": {},
   "outputs": [
    {
     "name": "stdout",
     "output_type": "stream",
     "text": [
      "220\n"
     ]
    }
   ],
   "source": [
    "val = [60,100,120]\n",
    "weight = [10,20,30]\n",
    "maxW = 50\n",
    "items = len(val)-1\n",
    "\n",
    "ans = knapsack(maxW, weight, val, items)\n",
    "print(ans)"
   ]
  },
  {
   "cell_type": "code",
   "execution_count": null,
   "metadata": {},
   "outputs": [],
   "source": [
    "# stay Tuned :)"
   ]
  }
 ],
 "metadata": {
  "kernelspec": {
   "display_name": "Python 3",
   "language": "python",
   "name": "python3"
  },
  "language_info": {
   "codemirror_mode": {
    "name": "ipython",
    "version": 3
   },
   "file_extension": ".py",
   "mimetype": "text/x-python",
   "name": "python",
   "nbconvert_exporter": "python",
   "pygments_lexer": "ipython3",
   "version": "3.7.3"
  }
 },
 "nbformat": 4,
 "nbformat_minor": 2
}
