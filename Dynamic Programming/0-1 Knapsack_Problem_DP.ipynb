{
 "cells": [
  {
   "cell_type": "code",
   "execution_count": 1,
   "metadata": {},
   "outputs": [],
   "source": [
    "# 0-1 Knapsack Problem using Dynamic Programming.\n",
    "# Using Tabulation Method (Filling table in Bottom-up manner)\n",
    "# Time Complexity is O(nW)"
   ]
  },
  {
   "cell_type": "code",
   "execution_count": 32,
   "metadata": {},
   "outputs": [],
   "source": [
    "def knapsack(maxW, weight, val, items):\n",
    "    # Initializing the table[][] with 0s\n",
    "    table=[ [0 for x in range(maxW+1)] for x in range(items+1) ] \n",
    "    \n",
    "    # ci = current Item\n",
    "    # cw = current Weight\n",
    "    for ci in range(items+1):\n",
    "        for cw in range(maxW+1):\n",
    "            \n",
    "            if ci ==0 or cw == 0:  # Filling 1st row and column with 0\n",
    "                table[ci][cw]=0\n",
    "                \n",
    "            elif weight[ci-1] <= cw:  # if the current weight can be included in the bag capacity\n",
    "                val_CI = val[ci-1]                        # Value of Current Item\n",
    "                val_RW = cw - weight[ci-1]                # Max Value of Remaining weight from the current weight\n",
    "                including = val_CI + table[ci-1][val_RW]  # Including current item\n",
    "                notIncluding = table[ci-1][cw]            # Not Including current item\n",
    "                \n",
    "                table[ci][cw] = max(including, notIncluding)\n",
    "                \n",
    "                # --------------  OR IN 1 LINE --------------#\n",
    "                \n",
    "                # table[ci][cw] = max(val[ci-1] + table[ci-1][cw-weight[ci-1]]   ,  table[ci-1][cw])\n",
    "                \n",
    "            else:\n",
    "                table[ci][cw]= table[ci-1][cw]       \n",
    "                \n",
    "    # The last value in the table is our final answer\n",
    "    print(\"Answer is : \" , table[ci][cw])\n",
    "    # Printing the table for reference\n",
    "    print(\"\\n\",table)"
   ]
  },
  {
   "cell_type": "code",
   "execution_count": 33,
   "metadata": {},
   "outputs": [
    {
     "name": "stdout",
     "output_type": "stream",
     "text": [
      "Answer is :  220\n",
      "\n",
      " [[0, 0, 0, 0, 0, 0, 0, 0, 0, 0, 0, 0, 0, 0, 0, 0, 0, 0, 0, 0, 0, 0, 0, 0, 0, 0, 0, 0, 0, 0, 0, 0, 0, 0, 0, 0, 0, 0, 0, 0, 0, 0, 0, 0, 0, 0, 0, 0, 0, 0, 0], [0, 0, 0, 0, 0, 0, 0, 0, 0, 0, 60, 60, 60, 60, 60, 60, 60, 60, 60, 60, 60, 60, 60, 60, 60, 60, 60, 60, 60, 60, 60, 60, 60, 60, 60, 60, 60, 60, 60, 60, 60, 60, 60, 60, 60, 60, 60, 60, 60, 60, 60], [0, 0, 0, 0, 0, 0, 0, 0, 0, 0, 60, 60, 60, 60, 60, 60, 60, 60, 60, 60, 100, 100, 100, 100, 100, 100, 100, 100, 100, 100, 160, 160, 160, 160, 160, 160, 160, 160, 160, 160, 160, 160, 160, 160, 160, 160, 160, 160, 160, 160, 160], [0, 0, 0, 0, 0, 0, 0, 0, 0, 0, 60, 60, 60, 60, 60, 60, 60, 60, 60, 60, 100, 100, 100, 100, 100, 100, 100, 100, 100, 100, 160, 160, 160, 160, 160, 160, 160, 160, 160, 160, 180, 180, 180, 180, 180, 180, 180, 180, 180, 180, 220]]\n"
     ]
    }
   ],
   "source": [
    "val = [60,100,120]\n",
    "weight = [10,20,30]\n",
    "maxW = 50\n",
    "items = len(val)\n",
    "knapsack(maxW, weight, val, items)\n"
   ]
  },
  {
   "cell_type": "code",
   "execution_count": null,
   "metadata": {},
   "outputs": [],
   "source": [
    "# stay Tuned :)"
   ]
  }
 ],
 "metadata": {
  "kernelspec": {
   "display_name": "Python 3",
   "language": "python",
   "name": "python3"
  },
  "language_info": {
   "codemirror_mode": {
    "name": "ipython",
    "version": 3
   },
   "file_extension": ".py",
   "mimetype": "text/x-python",
   "name": "python",
   "nbconvert_exporter": "python",
   "pygments_lexer": "ipython3",
   "version": "3.7.3"
  }
 },
 "nbformat": 4,
 "nbformat_minor": 2
}
