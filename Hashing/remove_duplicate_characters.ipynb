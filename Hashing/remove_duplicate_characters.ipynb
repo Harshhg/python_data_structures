{
 "cells": [
  {
   "cell_type": "code",
   "execution_count": 6,
   "metadata": {},
   "outputs": [],
   "source": [
    "# Removing Duplicates from the array of characters.. using HASHING\n",
    "# Used Dictionary for hashing implementation.    "
   ]
  },
  {
   "cell_type": "code",
   "execution_count": 7,
   "metadata": {},
   "outputs": [],
   "source": [
    "ar =  ['a','b','c','a','d','c','e','a','e','k','c']"
   ]
  },
  {
   "cell_type": "code",
   "execution_count": 8,
   "metadata": {},
   "outputs": [],
   "source": [
    "# Mapping values into hash table\n",
    "dict = {}\n",
    "for x in ar:\n",
    "    if x not in dict:\n",
    "        dict[x]=1\n",
    "    else:\n",
    "        dict[x] = dict[x]+1"
   ]
  },
  {
   "cell_type": "code",
   "execution_count": 9,
   "metadata": {},
   "outputs": [],
   "source": [
    "# Removing duplicates\n",
    "new=[]\n",
    "for x in ar:\n",
    "    if dict[x] > 0:\n",
    "        new.append(x)\n",
    "        dict[x]=0"
   ]
  },
  {
   "cell_type": "code",
   "execution_count": 10,
   "metadata": {},
   "outputs": [
    {
     "name": "stdout",
     "output_type": "stream",
     "text": [
      "Before Removing Duplicates : ['a', 'b', 'c', 'a', 'd', 'c', 'e', 'a', 'e', 'k', 'c']\n",
      "After Removing Duplicates :  ['a', 'b', 'c', 'd', 'e', 'k']\n"
     ]
    }
   ],
   "source": [
    "# Printing the Duplicates\n",
    "print(\"Before Removing Duplicates :\",ar)\n",
    "print(\"After Removing Duplicates : \",new)"
   ]
  }
 ],
 "metadata": {
  "kernelspec": {
   "display_name": "Python 3",
   "language": "python",
   "name": "python3"
  },
  "language_info": {
   "codemirror_mode": {
    "name": "ipython",
    "version": 3
   },
   "file_extension": ".py",
   "mimetype": "text/x-python",
   "name": "python",
   "nbconvert_exporter": "python",
   "pygments_lexer": "ipython3",
   "version": "3.7.3"
  }
 },
 "nbformat": 4,
 "nbformat_minor": 2
}
