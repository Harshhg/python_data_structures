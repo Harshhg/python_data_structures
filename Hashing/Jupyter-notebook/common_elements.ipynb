{
 "cells": [
  {
   "cell_type": "code",
   "execution_count": null,
   "metadata": {},
   "outputs": [],
   "source": [
    "# Given three increasingly sorted arrays A, B, C of sizes N1, N2, and N3 respectively,\n",
    "# you need to print all common elements in these arrays, if not then print -1\n",
    "\n",
    "\n",
    "# First input contains number of test cases\n",
    "# Second input contains size of 3 arrays seperated by space\n",
    "# Third line contains 3 arrays\n",
    "'''\n",
    "Input:\n",
    "1\n",
    "6 5 8\n",
    "1 5 10 20 40 80\n",
    "6 7 20 80 100\n",
    "3 4 15 20 30 70 80 120\n",
    "Output:\n",
    "20 80\n",
    "'''"
   ]
  },
  {
   "cell_type": "code",
   "execution_count": 4,
   "metadata": {},
   "outputs": [
    {
     "name": "stdout",
     "output_type": "stream",
     "text": [
      "1\n",
      "6 5 8\n",
      "1 5 10 20 40 80\n",
      "6 7 20 80 100\n",
      "3 4 15 20 30 70 80 120\n",
      "20 80 "
     ]
    }
   ],
   "source": [
    "tc = int(input())\n",
    "while(tc):\n",
    "    s1,s2,s3 = input().split(\" \")\n",
    "    ar1 = input().split(\" \")\n",
    "    ar2 = input().split(\" \")\n",
    "    ar3 = input().split(\" \")\n",
    "    hash = {}\n",
    "    flag=0\n",
    "    for x in ar1:\n",
    "        if x not in hash:\n",
    "            hash[x]=1\n",
    "        else:\n",
    "            hash[x]+=1\n",
    "    \n",
    "    for x in ar2:\n",
    "        if x not in hash:\n",
    "            hash[x]=1\n",
    "        else:\n",
    "            hash[x]+=1\n",
    "    \n",
    "    for x in ar3:\n",
    "        if x in hash and hash[x]==2:\n",
    "            flag=1\n",
    "            hash[x]=3\n",
    "            print(x,end=\" \")\n",
    "            \n",
    "    if not flag:\n",
    "        print(\"-1\")\n",
    "    tc-=1"
   ]
  },
  {
   "cell_type": "code",
   "execution_count": null,
   "metadata": {},
   "outputs": [],
   "source": [
    "# stay Tuned :)"
   ]
  }
 ],
 "metadata": {
  "kernelspec": {
   "display_name": "Python 3",
   "language": "python",
   "name": "python3"
  },
  "language_info": {
   "codemirror_mode": {
    "name": "ipython",
    "version": 3
   },
   "file_extension": ".py",
   "mimetype": "text/x-python",
   "name": "python",
   "nbconvert_exporter": "python",
   "pygments_lexer": "ipython3",
   "version": "3.7.3"
  }
 },
 "nbformat": 4,
 "nbformat_minor": 2
}
