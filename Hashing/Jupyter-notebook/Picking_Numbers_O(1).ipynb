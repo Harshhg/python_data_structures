{
 "cells": [
  {
   "cell_type": "code",
   "execution_count": null,
   "metadata": {
    "scrolled": true
   },
   "outputs": [],
   "source": [
    "'''\n",
    "Given an array of integers, find and print the maximum number of integers you can select from the array such that \n",
    "the absolute difference between any two of the chosen integers is less than or equal to 1\n",
    "\n",
    "For ex -  [6,2,1,3,3,5]\n",
    "elements with abs difference < 1 are -  [2,3,3]\n",
    "so the output is 3.\n",
    "\n",
    "For ex - [1 2 2 3 1 2]\n",
    "elements with abs difference < 1 are -  [1,1,2,2,2]\n",
    "so the output is 5.\n",
    "\n",
    "'''\n",
    "# Time complexity - O(1) using HASHING\n",
    "    "
   ]
  },
  {
   "cell_type": "code",
   "execution_count": 4,
   "metadata": {},
   "outputs": [
    {
     "name": "stdout",
     "output_type": "stream",
     "text": [
      "1 2 2 3 1 2\n",
      "5\n"
     ]
    }
   ],
   "source": [
    "ar = list(map(int, input().rstrip().split()))\n",
    "hash=[0]*1000\n",
    "for x in ar:\n",
    "    hash[x]+=1\n",
    "    \n",
    "res=0\n",
    "for x in range(1000):\n",
    "    res=max(res,hash[x-1]+hash[x])\n",
    "    \n",
    "print(res)"
   ]
  },
  {
   "cell_type": "code",
   "execution_count": 47,
   "metadata": {},
   "outputs": [],
   "source": [
    "# O(N) solution is in the array section.\n",
    "# stay Tuned :)"
   ]
  }
 ],
 "metadata": {
  "kernelspec": {
   "display_name": "Python 3",
   "language": "python",
   "name": "python3"
  },
  "language_info": {
   "codemirror_mode": {
    "name": "ipython",
    "version": 3
   },
   "file_extension": ".py",
   "mimetype": "text/x-python",
   "name": "python",
   "nbconvert_exporter": "python",
   "pygments_lexer": "ipython3",
   "version": "3.7.3"
  }
 },
 "nbformat": 4,
 "nbformat_minor": 2
}
