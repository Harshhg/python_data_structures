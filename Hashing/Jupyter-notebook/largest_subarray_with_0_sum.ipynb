{
 "cells": [
  {
   "cell_type": "code",
   "execution_count": 54,
   "metadata": {},
   "outputs": [],
   "source": [
    "# Given an array having both positive an negative integers, returns the length of maximum subarray with 0 sum. \n",
    "# O(n) approach using hashing"
   ]
  },
  {
   "cell_type": "code",
   "execution_count": 55,
   "metadata": {},
   "outputs": [],
   "source": [
    "def maxLen(arr):\n",
    "    cur_sum=0\n",
    "    max_len=0\n",
    "    hash={}\n",
    "    for i in range(len(arr)):\n",
    "        cur_sum += arr[i]\n",
    "        \n",
    "        if cur_sum == 0:\n",
    "            max_len = i+1\n",
    "        \n",
    "        if cur_sum in hash:\n",
    "            l = (i-hash[cur_sum])\n",
    "            if l>max_len:\n",
    "                max_len=l   \n",
    "        else:\n",
    "            hash[cur_sum]=i\n",
    "            \n",
    "    return max_len"
   ]
  },
  {
   "cell_type": "code",
   "execution_count": 56,
   "metadata": {},
   "outputs": [
    {
     "name": "stdout",
     "output_type": "stream",
     "text": [
      "5\n"
     ]
    }
   ],
   "source": [
    "arr = [15,-2,2,-8,1,7,10,23]\n",
    "print(maxLen(arr))"
   ]
  },
  {
   "cell_type": "code",
   "execution_count": null,
   "metadata": {},
   "outputs": [],
   "source": [
    "# stay Tuned :)"
   ]
  }
 ],
 "metadata": {
  "kernelspec": {
   "display_name": "Python 3",
   "language": "python",
   "name": "python3"
  },
  "language_info": {
   "codemirror_mode": {
    "name": "ipython",
    "version": 3
   },
   "file_extension": ".py",
   "mimetype": "text/x-python",
   "name": "python",
   "nbconvert_exporter": "python",
   "pygments_lexer": "ipython3",
   "version": "3.7.3"
  }
 },
 "nbformat": 4,
 "nbformat_minor": 2
}
