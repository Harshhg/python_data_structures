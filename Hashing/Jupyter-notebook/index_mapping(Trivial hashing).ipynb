{
 "cells": [
  {
   "cell_type": "code",
   "execution_count": 11,
   "metadata": {},
   "outputs": [],
   "source": [
    "# Example of hashing - Index mapping with negative values. (also called Trivial Hashing)"
   ]
  },
  {
   "cell_type": "code",
   "execution_count": 12,
   "metadata": {},
   "outputs": [],
   "source": [
    "# Search Function\n",
    "def search(x):\n",
    "    if x>=0:    # If element is positive\n",
    "        if (has[x][0])==1:\n",
    "            return True\n",
    "        else:\n",
    "            return False\n",
    "    \n",
    "    else:       # If element is negative\n",
    "        if has[abs(x)][1] == 1:\n",
    "            return True\n",
    "        else:\n",
    "            return False"
   ]
  },
  {
   "cell_type": "code",
   "execution_count": 13,
   "metadata": {},
   "outputs": [],
   "source": [
    "# Function to insert into hash table\n",
    "def insert(ar):\n",
    "    for i in range(len(ar)):\n",
    "        if ar[i]>=0:\n",
    "            has[ar[i]][0] = 1\n",
    "        elif ar[i]<0:\n",
    "            has[ abs(ar[i]) ][1] = 1"
   ]
  },
  {
   "cell_type": "code",
   "execution_count": 17,
   "metadata": {},
   "outputs": [],
   "source": [
    "ar = [-1,2,4,-6,5,3]\n",
    "max = 1000\n",
    "# Initializing the hash table with 0\n",
    "has = [[0 for i in range(2)]    for j in range(max + 1)]\n",
    "# Calling insert function to insert into hash table\n",
    "insert(ar)"
   ]
  },
  {
   "cell_type": "code",
   "execution_count": 18,
   "metadata": {},
   "outputs": [
    {
     "name": "stdout",
     "output_type": "stream",
     "text": [
      "Present\n"
     ]
    }
   ],
   "source": [
    "# Searching the value in hash table\n",
    "result = search(-6)\n",
    "if result:\n",
    "    print(\"Present\")\n",
    "else:\n",
    "    print(\"Not present\")"
   ]
  }
 ],
 "metadata": {
  "kernelspec": {
   "display_name": "Python 3",
   "language": "python",
   "name": "python3"
  },
  "language_info": {
   "codemirror_mode": {
    "name": "ipython",
    "version": 3
   },
   "file_extension": ".py",
   "mimetype": "text/x-python",
   "name": "python",
   "nbconvert_exporter": "python",
   "pygments_lexer": "ipython3",
   "version": "3.7.3"
  }
 },
 "nbformat": 4,
 "nbformat_minor": 2
}
