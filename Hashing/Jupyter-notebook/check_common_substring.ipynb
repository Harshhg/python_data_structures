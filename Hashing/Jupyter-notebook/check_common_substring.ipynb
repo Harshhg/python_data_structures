{
 "cells": [
  {
   "cell_type": "code",
   "execution_count": null,
   "metadata": {},
   "outputs": [],
   "source": [
    "# Given two strings, determine if they share the common substring\n",
    "# Time complexity O(N)"
   ]
  },
  {
   "cell_type": "code",
   "execution_count": 3,
   "metadata": {},
   "outputs": [],
   "source": [
    "# Function that takes 2 strings as arguments\n",
    "def twoStrings(s1, s2):\n",
    "    hash={}\n",
    "    string=\"NO\"\n",
    "    for x in s1:\n",
    "        hash[x]=1\n",
    "    for y in s2:\n",
    "        if y in hash:\n",
    "            string=\"YES\"\n",
    "    return string"
   ]
  },
  {
   "cell_type": "code",
   "execution_count": null,
   "metadata": {},
   "outputs": [],
   "source": [
    "print(twoString(s1,s2))"
   ]
  }
 ],
 "metadata": {
  "kernelspec": {
   "display_name": "Python 3",
   "language": "python",
   "name": "python3"
  },
  "language_info": {
   "codemirror_mode": {
    "name": "ipython",
    "version": 3
   },
   "file_extension": ".py",
   "mimetype": "text/x-python",
   "name": "python",
   "nbconvert_exporter": "python",
   "pygments_lexer": "ipython3",
   "version": "3.7.3"
  }
 },
 "nbformat": 4,
 "nbformat_minor": 2
}
